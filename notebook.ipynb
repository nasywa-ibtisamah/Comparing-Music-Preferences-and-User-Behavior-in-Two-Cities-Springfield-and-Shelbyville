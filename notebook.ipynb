{
 "cells": [
  {
   "attachments": {},
   "cell_type": "markdown",
   "metadata": {
    "id": "fhq_eyov_Zcs"
   },
   "source": [
    "# Contents <a id='back'></a>\n",
    "\n",
    "* [Introduction](#intro)\n",
    "* [1. Data Overview](#data_review)\n",
    "    * [Conclusions](#data_review_conclusions)\n",
    "* [2. Data Pre-Processing](#data_preprocessing)\n",
    "    * [2.1 Header Stylel](#header_style)\n",
    "    * [2.2 Missing Values](#missing_values)\n",
    "    * [2.3 Duplicates](#duplicates)\n",
    "    * [2.4 Conclusions](#data_preprocessing_conclusions)\n",
    "* [3. Hypotheses](#hypotheses)\n",
    "    * [3.1 Hypothesis 1: Users activities in the 2 cities](#activity)\n",
    "    * [3.2 Hypothesis 2: Music preferences on Monday and Friday](#week)\n",
    "    * [3.3 Hypothesis 3: Genre preferences in the 2 citites](#genre)\n",
    "* [Findings](#end)"
   ]
  },
  {
   "attachments": {},
   "cell_type": "markdown",
   "metadata": {
    "id": "VUC88oWjTJw2"
   },
   "source": [
    "## Introduction <a id='intro'></a>\n",
    "Every time we conduct research, we need to formulate hypotheses that can be tested. Sometimes we accept these hypotheses, but sometimes we also reject them. To make informed decisions, a key person in business department must be able to understand whether its assumptions are correct or not.\n",
    "\n",
    "In this project, I will compare the music preferences of the cities of Springfield and Shelbyville. I will study the data from Y.Music to test the hypotheses below and compare user behavior in both cities.\n",
    "\n",
    "### Objective: \n",
    "To test three hypotheses:\n",
    "1. User activity varies depending on the day and city.\n",
    "2. On Monday mornings, residents of Springfield and Shelbyville listen to different genres. This also applies to Friday nights.\n",
    "3. Listeners in Springfield and Shelbyville have different preferences. In Springfield, they prefer pop music, while in Shelbyville, rap music has more fans.\n",
    "\n",
    "### Steps\n",
    "This project will consist of three stages:\n",
    "\n",
    "1. Data Overview\n",
    "2. Data Preprocessing\n",
    "3. Hypothesis Testing\n",
    "\n",
    " \n",
    "[Back to Contents](#back)"
   ]
  },
  {
   "attachments": {},
   "cell_type": "markdown",
   "metadata": {
    "id": "Ml1hmfXC_Zcs"
   },
   "source": [
    "## 1. Data Overview <a id='data_review'></a>"
   ]
  },
  {
   "cell_type": "code",
   "execution_count": 1,
   "metadata": {
    "id": "AXN7PHPN_Zcs"
   },
   "outputs": [],
   "source": [
    "import pandas as pd"
   ]
  },
  {
   "cell_type": "code",
   "execution_count": 2,
   "metadata": {
    "id": "fFVu7vqh_Zct",
    "scrolled": true
   },
   "outputs": [
    {
     "data": {
      "text/html": [
       "<div>\n",
       "<style scoped>\n",
       "    .dataframe tbody tr th:only-of-type {\n",
       "        vertical-align: middle;\n",
       "    }\n",
       "\n",
       "    .dataframe tbody tr th {\n",
       "        vertical-align: top;\n",
       "    }\n",
       "\n",
       "    .dataframe thead th {\n",
       "        text-align: right;\n",
       "    }\n",
       "</style>\n",
       "<table border=\"1\" class=\"dataframe\">\n",
       "  <thead>\n",
       "    <tr style=\"text-align: right;\">\n",
       "      <th></th>\n",
       "      <th>userID</th>\n",
       "      <th>Track</th>\n",
       "      <th>artist</th>\n",
       "      <th>genre</th>\n",
       "      <th>City</th>\n",
       "      <th>time</th>\n",
       "      <th>Day</th>\n",
       "    </tr>\n",
       "  </thead>\n",
       "  <tbody>\n",
       "    <tr>\n",
       "      <th>count</th>\n",
       "      <td>65079</td>\n",
       "      <td>63736</td>\n",
       "      <td>57512</td>\n",
       "      <td>63881</td>\n",
       "      <td>65079</td>\n",
       "      <td>65079</td>\n",
       "      <td>65079</td>\n",
       "    </tr>\n",
       "    <tr>\n",
       "      <th>unique</th>\n",
       "      <td>41748</td>\n",
       "      <td>39666</td>\n",
       "      <td>37806</td>\n",
       "      <td>268</td>\n",
       "      <td>2</td>\n",
       "      <td>20392</td>\n",
       "      <td>3</td>\n",
       "    </tr>\n",
       "    <tr>\n",
       "      <th>top</th>\n",
       "      <td>A8AE9169</td>\n",
       "      <td>Brand</td>\n",
       "      <td>Kartvelli</td>\n",
       "      <td>pop</td>\n",
       "      <td>Springfield</td>\n",
       "      <td>08:14:07</td>\n",
       "      <td>Friday</td>\n",
       "    </tr>\n",
       "    <tr>\n",
       "      <th>freq</th>\n",
       "      <td>76</td>\n",
       "      <td>136</td>\n",
       "      <td>136</td>\n",
       "      <td>8850</td>\n",
       "      <td>45360</td>\n",
       "      <td>14</td>\n",
       "      <td>23149</td>\n",
       "    </tr>\n",
       "  </tbody>\n",
       "</table>\n",
       "</div>"
      ],
      "text/plain": [
       "          userID  Track     artist  genre       City        time     Day\n",
       "count      65079  63736      57512  63881        65079     65079   65079\n",
       "unique     41748  39666      37806    268            2     20392       3\n",
       "top     A8AE9169  Brand  Kartvelli    pop  Springfield  08:14:07  Friday\n",
       "freq          76    136        136   8850        45360        14   23149"
      ]
     },
     "execution_count": 2,
     "metadata": {},
     "output_type": "execute_result"
    }
   ],
   "source": [
    "# load the data\n",
    "df = pd.read_csv('data/music_project_en.csv')\n",
    "df.describe()"
   ]
  },
  {
   "cell_type": "code",
   "execution_count": 6,
   "metadata": {
    "id": "oWTVX3gW_Zct",
    "scrolled": true
   },
   "outputs": [
    {
     "data": {
      "text/html": [
       "<div>\n",
       "<style scoped>\n",
       "    .dataframe tbody tr th:only-of-type {\n",
       "        vertical-align: middle;\n",
       "    }\n",
       "\n",
       "    .dataframe tbody tr th {\n",
       "        vertical-align: top;\n",
       "    }\n",
       "\n",
       "    .dataframe thead th {\n",
       "        text-align: right;\n",
       "    }\n",
       "</style>\n",
       "<table border=\"1\" class=\"dataframe\">\n",
       "  <thead>\n",
       "    <tr style=\"text-align: right;\">\n",
       "      <th></th>\n",
       "      <th>userID</th>\n",
       "      <th>Track</th>\n",
       "      <th>artist</th>\n",
       "      <th>genre</th>\n",
       "      <th>City</th>\n",
       "      <th>time</th>\n",
       "      <th>Day</th>\n",
       "    </tr>\n",
       "  </thead>\n",
       "  <tbody>\n",
       "    <tr>\n",
       "      <th>0</th>\n",
       "      <td>FFB692EC</td>\n",
       "      <td>Kamigata To Boots</td>\n",
       "      <td>The Mass Missile</td>\n",
       "      <td>rock</td>\n",
       "      <td>Shelbyville</td>\n",
       "      <td>20:28:33</td>\n",
       "      <td>Wednesday</td>\n",
       "    </tr>\n",
       "    <tr>\n",
       "      <th>1</th>\n",
       "      <td>55204538</td>\n",
       "      <td>Delayed Because of Accident</td>\n",
       "      <td>Andreas Rönnberg</td>\n",
       "      <td>rock</td>\n",
       "      <td>Springfield</td>\n",
       "      <td>14:07:09</td>\n",
       "      <td>Friday</td>\n",
       "    </tr>\n",
       "    <tr>\n",
       "      <th>2</th>\n",
       "      <td>20EC38</td>\n",
       "      <td>Funiculì funiculà</td>\n",
       "      <td>Mario Lanza</td>\n",
       "      <td>pop</td>\n",
       "      <td>Shelbyville</td>\n",
       "      <td>20:58:07</td>\n",
       "      <td>Wednesday</td>\n",
       "    </tr>\n",
       "    <tr>\n",
       "      <th>3</th>\n",
       "      <td>A3DD03C9</td>\n",
       "      <td>Dragons in the Sunset</td>\n",
       "      <td>Fire + Ice</td>\n",
       "      <td>folk</td>\n",
       "      <td>Shelbyville</td>\n",
       "      <td>08:37:09</td>\n",
       "      <td>Monday</td>\n",
       "    </tr>\n",
       "    <tr>\n",
       "      <th>4</th>\n",
       "      <td>E2DC1FAE</td>\n",
       "      <td>Soul People</td>\n",
       "      <td>Space Echo</td>\n",
       "      <td>dance</td>\n",
       "      <td>Springfield</td>\n",
       "      <td>08:34:34</td>\n",
       "      <td>Monday</td>\n",
       "    </tr>\n",
       "    <tr>\n",
       "      <th>5</th>\n",
       "      <td>842029A1</td>\n",
       "      <td>Chains</td>\n",
       "      <td>Obladaet</td>\n",
       "      <td>rusrap</td>\n",
       "      <td>Shelbyville</td>\n",
       "      <td>13:09:41</td>\n",
       "      <td>Friday</td>\n",
       "    </tr>\n",
       "    <tr>\n",
       "      <th>6</th>\n",
       "      <td>4CB90AA5</td>\n",
       "      <td>True</td>\n",
       "      <td>Roman Messer</td>\n",
       "      <td>dance</td>\n",
       "      <td>Springfield</td>\n",
       "      <td>13:00:07</td>\n",
       "      <td>Wednesday</td>\n",
       "    </tr>\n",
       "    <tr>\n",
       "      <th>7</th>\n",
       "      <td>F03E1C1F</td>\n",
       "      <td>Feeling This Way</td>\n",
       "      <td>Polina Griffith</td>\n",
       "      <td>dance</td>\n",
       "      <td>Springfield</td>\n",
       "      <td>20:47:49</td>\n",
       "      <td>Wednesday</td>\n",
       "    </tr>\n",
       "    <tr>\n",
       "      <th>8</th>\n",
       "      <td>8FA1D3BE</td>\n",
       "      <td>L’estate</td>\n",
       "      <td>Julia Dalia</td>\n",
       "      <td>ruspop</td>\n",
       "      <td>Springfield</td>\n",
       "      <td>09:17:40</td>\n",
       "      <td>Friday</td>\n",
       "    </tr>\n",
       "    <tr>\n",
       "      <th>9</th>\n",
       "      <td>E772D5C0</td>\n",
       "      <td>Pessimist</td>\n",
       "      <td>NaN</td>\n",
       "      <td>dance</td>\n",
       "      <td>Shelbyville</td>\n",
       "      <td>21:20:49</td>\n",
       "      <td>Wednesday</td>\n",
       "    </tr>\n",
       "  </tbody>\n",
       "</table>\n",
       "</div>"
      ],
      "text/plain": [
       "     userID                        Track            artist   genre  \\\n",
       "0  FFB692EC            Kamigata To Boots  The Mass Missile    rock   \n",
       "1  55204538  Delayed Because of Accident  Andreas Rönnberg    rock   \n",
       "2    20EC38            Funiculì funiculà       Mario Lanza     pop   \n",
       "3  A3DD03C9        Dragons in the Sunset        Fire + Ice    folk   \n",
       "4  E2DC1FAE                  Soul People        Space Echo   dance   \n",
       "5  842029A1                       Chains          Obladaet  rusrap   \n",
       "6  4CB90AA5                         True      Roman Messer   dance   \n",
       "7  F03E1C1F             Feeling This Way   Polina Griffith   dance   \n",
       "8  8FA1D3BE                     L’estate       Julia Dalia  ruspop   \n",
       "9  E772D5C0                    Pessimist               NaN   dance   \n",
       "\n",
       "        City        time        Day  \n",
       "0  Shelbyville  20:28:33  Wednesday  \n",
       "1  Springfield  14:07:09     Friday  \n",
       "2  Shelbyville  20:58:07  Wednesday  \n",
       "3  Shelbyville  08:37:09     Monday  \n",
       "4  Springfield  08:34:34     Monday  \n",
       "5  Shelbyville  13:09:41     Friday  \n",
       "6  Springfield  13:00:07  Wednesday  \n",
       "7  Springfield  20:47:49  Wednesday  \n",
       "8  Springfield  09:17:40     Friday  \n",
       "9  Shelbyville  21:20:49  Wednesday  "
      ]
     },
     "execution_count": 6,
     "metadata": {},
     "output_type": "execute_result"
    }
   ],
   "source": [
    "df.head(10)"
   ]
  },
  {
   "cell_type": "code",
   "execution_count": 7,
   "metadata": {
    "id": "DSf2kIb-_Zct"
   },
   "outputs": [
    {
     "name": "stdout",
     "output_type": "stream",
     "text": [
      "<class 'pandas.core.frame.DataFrame'>\n",
      "RangeIndex: 65079 entries, 0 to 65078\n",
      "Data columns (total 7 columns):\n",
      " #   Column    Non-Null Count  Dtype \n",
      "---  ------    --------------  ----- \n",
      " 0     userID  65079 non-null  object\n",
      " 1   Track     63736 non-null  object\n",
      " 2   artist    57512 non-null  object\n",
      " 3   genre     63881 non-null  object\n",
      " 4     City    65079 non-null  object\n",
      " 5   time      65079 non-null  object\n",
      " 6   Day       65079 non-null  object\n",
      "dtypes: object(7)\n",
      "memory usage: 3.5+ MB\n"
     ]
    }
   ],
   "source": [
    "df.info()"
   ]
  },
  {
   "attachments": {},
   "cell_type": "markdown",
   "metadata": {
    "id": "MCB6-dXG_Zct"
   },
   "source": [
    "### Conclusions <a id='data_review_conclusions'></a> \n",
    "\n",
    "Each row in the table contains data on a played song. Some columns describe the song itself: title, artist, and genre. The rest convey information about the users: their city of origin and the time they played the song.\n",
    "\n",
    "It is evident that the data is sufficient to test the hypotheses. However, there are missing values.\n",
    "\n",
    "Next, we need to perform data preprocessing first."
   ]
  },
  {
   "attachments": {},
   "cell_type": "markdown",
   "metadata": {
    "id": "3eL__vcwViOi"
   },
   "source": [
    "[Back to Contents](#back)"
   ]
  },
  {
   "attachments": {},
   "cell_type": "markdown",
   "metadata": {
    "id": "SjYF6Ub9_Zct"
   },
   "source": [
    "## 2. Data preprocessing <a id='data_preprocessing'></a>\n",
    "Fix the column title formatting and address missing values. Then, check for any duplicates in the data."
   ]
  },
  {
   "attachments": {},
   "cell_type": "markdown",
   "metadata": {
    "id": "dIaKXr29_Zct"
   },
   "source": [
    "### Header Style <a id='header_style'></a>\n"
   ]
  },
  {
   "cell_type": "code",
   "execution_count": 8,
   "metadata": {
    "id": "oKOTdF_Q_Zct"
   },
   "outputs": [
    {
     "data": {
      "text/plain": [
       "Index(['  userID', 'Track', 'artist', 'genre', '  City  ', 'time', 'Day'], dtype='object')"
      ]
     },
     "execution_count": 8,
     "metadata": {},
     "output_type": "execute_result"
    }
   ],
   "source": [
    "df.columns"
   ]
  },
  {
   "cell_type": "code",
   "execution_count": 9,
   "metadata": {
    "id": "ISlFqs5y_Zct"
   },
   "outputs": [],
   "source": [
    "# rename column name\n",
    "df = df.rename(\n",
    "    columns={\n",
    "        '  userID' : 'user_id',\n",
    "        'Track': 'track',\n",
    "        '  City  ' : 'city',\n",
    "        'Day' : 'day'\n",
    "    }\n",
    ")"
   ]
  },
  {
   "attachments": {},
   "cell_type": "markdown",
   "metadata": {
    "id": "1dqbh00J_Zct"
   },
   "source": [
    "Periksa hasilnya. Tampilkan nama kolom sekali lagi:"
   ]
  },
  {
   "cell_type": "code",
   "execution_count": 10,
   "metadata": {
    "id": "d4NOAmTW_Zct"
   },
   "outputs": [
    {
     "data": {
      "text/plain": [
       "Index(['user_id', 'track', 'artist', 'genre', 'city', 'time', 'day'], dtype='object')"
      ]
     },
     "execution_count": 10,
     "metadata": {},
     "output_type": "execute_result"
    }
   ],
   "source": [
    "# hasil pengecekan: daftar nama kolom\n",
    "df.columns"
   ]
  },
  {
   "attachments": {},
   "cell_type": "markdown",
   "metadata": {
    "id": "xYJk6ksJVpOl"
   },
   "source": [
    "[Back to Contents](#back)"
   ]
  },
  {
   "attachments": {},
   "cell_type": "markdown",
   "metadata": {
    "id": "5ISfbcfY_Zct"
   },
   "source": [
    "### Missing Values <a id='missing_values'></a>"
   ]
  },
  {
   "cell_type": "code",
   "execution_count": 11,
   "metadata": {
    "id": "RskX29qr_Zct",
    "scrolled": true
   },
   "outputs": [
    {
     "name": "stdout",
     "output_type": "stream",
     "text": [
      "user_id       0\n",
      "track      1343\n",
      "artist     7567\n",
      "genre      1198\n",
      "city          0\n",
      "time          0\n",
      "day           0\n",
      "dtype: int64\n"
     ]
    }
   ],
   "source": [
    "print(df.isna().sum())"
   ]
  },
  {
   "cell_type": "code",
   "execution_count": 12,
   "metadata": {
    "id": "KplB5qWs_Zct"
   },
   "outputs": [],
   "source": [
    "# replace missing values with 'unknown'\n",
    "columns_to_replace = ['track', 'artist', 'genre']\n",
    "\n",
    "for column in columns_to_replace:\n",
    "    df[column] = df[column].fillna('unknown')"
   ]
  },
  {
   "cell_type": "code",
   "execution_count": 13,
   "metadata": {
    "id": "Tq4nYRX4_Zct"
   },
   "outputs": [
    {
     "data": {
      "text/plain": [
       "user_id    0\n",
       "track      0\n",
       "artist     0\n",
       "genre      0\n",
       "city       0\n",
       "time       0\n",
       "day        0\n",
       "dtype: int64"
      ]
     },
     "execution_count": 13,
     "metadata": {},
     "output_type": "execute_result"
    }
   ],
   "source": [
    "# menghitung nilai yang hilang\n",
    "df.isna().sum()"
   ]
  },
  {
   "attachments": {},
   "cell_type": "markdown",
   "metadata": {
    "id": "74ZIBmq9VrsK"
   },
   "source": [
    "[Back to Contents](#back)"
   ]
  },
  {
   "attachments": {},
   "cell_type": "markdown",
   "metadata": {
    "id": "BWKRtBJ3_Zct"
   },
   "source": [
    "### Duplicates <a id='duplicates'></a>"
   ]
  },
  {
   "cell_type": "code",
   "execution_count": 14,
   "metadata": {
    "id": "36eES_S0_Zct"
   },
   "outputs": [
    {
     "data": {
      "text/plain": [
       "3826"
      ]
     },
     "execution_count": 14,
     "metadata": {},
     "output_type": "execute_result"
    }
   ],
   "source": [
    "df.duplicated().sum()"
   ]
  },
  {
   "cell_type": "code",
   "execution_count": 15,
   "metadata": {
    "id": "exFHq6tt_Zct"
   },
   "outputs": [],
   "source": [
    "df = df.drop_duplicates().reset_index(drop=True)"
   ]
  },
  {
   "cell_type": "code",
   "execution_count": 16,
   "metadata": {
    "id": "-8PuNWQ0_Zct",
    "scrolled": true
   },
   "outputs": [
    {
     "data": {
      "text/plain": [
       "0"
      ]
     },
     "execution_count": 16,
     "metadata": {},
     "output_type": "execute_result"
    }
   ],
   "source": [
    "df.duplicated().sum()"
   ]
  },
  {
   "cell_type": "code",
   "execution_count": 17,
   "metadata": {
    "id": "JIUcqzZN_Zct",
    "scrolled": true
   },
   "outputs": [
    {
     "data": {
      "text/plain": [
       "array(['acid', 'acoustic', 'action', 'adult', 'africa', 'afrikaans',\n",
       "       'alternative', 'ambient', 'americana', 'animated', 'anime',\n",
       "       'arabesk', 'arabic', 'arena', 'argentinetango', 'art', 'audiobook',\n",
       "       'avantgarde', 'axé', 'baile', 'balkan', 'beats', 'bigroom',\n",
       "       'black', 'bluegrass', 'blues', 'bollywood', 'bossa', 'brazilian',\n",
       "       'breakbeat', 'breaks', 'broadway', 'cantautori', 'cantopop',\n",
       "       'canzone', 'caribbean', 'caucasian', 'celtic', 'chamber',\n",
       "       'children', 'chill', 'chinese', 'choral', 'christian', 'christmas',\n",
       "       'classical', 'classicmetal', 'club', 'colombian', 'comedy',\n",
       "       'conjazz', 'contemporary', 'country', 'cuban', 'dance',\n",
       "       'dancehall', 'dancepop', 'dark', 'death', 'deep', 'deutschrock',\n",
       "       'deutschspr', 'dirty', 'disco', 'dnb', 'documentary', 'downbeat',\n",
       "       'downtempo', 'drum', 'dub', 'dubstep', 'eastern', 'easy',\n",
       "       'electronic', 'electropop', 'emo', 'entehno', 'epicmetal',\n",
       "       'estrada', 'ethnic', 'eurofolk', 'european', 'experimental',\n",
       "       'extrememetal', 'fado', 'film', 'fitness', 'flamenco', 'folk',\n",
       "       'folklore', 'folkmetal', 'folkrock', 'folktronica', 'forró',\n",
       "       'frankreich', 'französisch', 'french', 'funk', 'future', 'gangsta',\n",
       "       'garage', 'german', 'ghazal', 'gitarre', 'glitch', 'gospel',\n",
       "       'gothic', 'grime', 'grunge', 'gypsy', 'handsup', \"hard'n'heavy\",\n",
       "       'hardcore', 'hardstyle', 'hardtechno', 'hip', 'hip-hop', 'hiphop',\n",
       "       'historisch', 'holiday', 'hop', 'horror', 'house', 'idm',\n",
       "       'independent', 'indian', 'indie', 'indipop', 'industrial',\n",
       "       'inspirational', 'instrumental', 'international', 'irish', 'jam',\n",
       "       'japanese', 'jazz', 'jewish', 'jpop', 'jungle', 'k-pop',\n",
       "       'karadeniz', 'karaoke', 'kayokyoku', 'korean', 'laiko', 'latin',\n",
       "       'latino', 'leftfield', 'local', 'lounge', 'loungeelectronic',\n",
       "       'lovers', 'malaysian', 'mandopop', 'marschmusik', 'meditative',\n",
       "       'mediterranean', 'melodic', 'metal', 'metalcore', 'mexican',\n",
       "       'middle', 'minimal', 'miscellaneous', 'modern', 'mood', 'mpb',\n",
       "       'muslim', 'native', 'neoklassik', 'neue', 'new', 'newage',\n",
       "       'newwave', 'nu', 'nujazz', 'numetal', 'oceania', 'old', 'opera',\n",
       "       'orchestral', 'other', 'piano', 'pop', 'popelectronic',\n",
       "       'popeurodance', 'post', 'posthardcore', 'postrock', 'power',\n",
       "       'progmetal', 'progressive', 'psychedelic', 'punjabi', 'punk',\n",
       "       'quebecois', 'ragga', 'ram', 'rancheras', 'rap', 'rave', 'reggae',\n",
       "       'reggaeton', 'regional', 'relax', 'religious', 'retro', 'rhythm',\n",
       "       'rnb', 'rnr', 'rock', 'rockabilly', 'romance', 'roots', 'ruspop',\n",
       "       'rusrap', 'rusrock', 'salsa', 'samba', 'schlager', 'self',\n",
       "       'sertanejo', 'shoegazing', 'showtunes', 'singer', 'ska', 'slow',\n",
       "       'smooth', 'soul', 'soulful', 'sound', 'soundtrack', 'southern',\n",
       "       'specialty', 'speech', 'spiritual', 'sport', 'stonerrock', 'surf',\n",
       "       'swing', 'synthpop', 'sängerportrait', 'tango', 'tanzorchester',\n",
       "       'taraftar', 'tech', 'techno', 'thrash', 'top', 'traditional',\n",
       "       'tradjazz', 'trance', 'tribal', 'trip', 'triphop', 'tropical',\n",
       "       'türk', 'türkçe', 'unknown', 'urban', 'uzbek', 'variété', 'vi',\n",
       "       'videogame', 'vocal', 'western', 'world', 'worldbeat', 'ïîï'],\n",
       "      dtype=object)"
      ]
     },
     "execution_count": 17,
     "metadata": {},
     "output_type": "execute_result"
    }
   ],
   "source": [
    "# check unique values of genre\n",
    "kolom_genre = df['genre']\n",
    "genre_urut = kolom_genre.sort_values()\n",
    "genre_urut.unique()"
   ]
  },
  {
   "attachments": {},
   "cell_type": "markdown",
   "metadata": {
    "id": "qej-Qmuo_Zct"
   },
   "source": [
    "Lihat melalui *list* untuk menemukan duplikat implisit dari genre `hiphop`. Ini bisa berupa nama yang ditulis secara salah atau nama alternatif dari genre yang sama.\n",
    "\n",
    "The following are implicit duplicates:\n",
    "* `hip`\n",
    "* `hop`\n",
    "* `hip-hop`\n",
    "\n",
    "To remove them, use the function replace_wrong_genres() with two parameters:\n",
    "* `wrong_genres=` — a list of duplicates\n",
    "* `correct_genre=` — a string with the correct value\n",
    "\n",
    "The function should correct the names in the 'genre' column of the 'df' table, replacing each value from the wrong_genres list with the value in correct_genre."
   ]
  },
  {
   "cell_type": "code",
   "execution_count": 18,
   "metadata": {
    "id": "ErNDkmns_Zct"
   },
   "outputs": [],
   "source": [
    "# function to replace implicit duplicates\n",
    "def replace_wrong_genres(wrong_genres, correct_genre):\n",
    "    for wrong_genre in wrong_genres:\n",
    "        df['genre'] = df['genre'].replace(wrong_genre, correct_genre)\n",
    "\n",
    "duplicates = ['hip', 'hop', 'hip-hop']\n",
    "genre_name = 'hiphop'"
   ]
  },
  {
   "cell_type": "code",
   "execution_count": 19,
   "metadata": {
    "id": "YN5i2hpmSo09"
   },
   "outputs": [],
   "source": [
    "# apply the function\n",
    "replace_wrong_genres(duplicates, genre_name)"
   ]
  },
  {
   "cell_type": "code",
   "execution_count": 20,
   "metadata": {
    "id": "wvixALnFG15m",
    "scrolled": true
   },
   "outputs": [
    {
     "data": {
      "text/plain": [
       "array(['acid', 'acoustic', 'action', 'adult', 'africa', 'afrikaans',\n",
       "       'alternative', 'ambient', 'americana', 'animated', 'anime',\n",
       "       'arabesk', 'arabic', 'arena', 'argentinetango', 'art', 'audiobook',\n",
       "       'avantgarde', 'axé', 'baile', 'balkan', 'beats', 'bigroom',\n",
       "       'black', 'bluegrass', 'blues', 'bollywood', 'bossa', 'brazilian',\n",
       "       'breakbeat', 'breaks', 'broadway', 'cantautori', 'cantopop',\n",
       "       'canzone', 'caribbean', 'caucasian', 'celtic', 'chamber',\n",
       "       'children', 'chill', 'chinese', 'choral', 'christian', 'christmas',\n",
       "       'classical', 'classicmetal', 'club', 'colombian', 'comedy',\n",
       "       'conjazz', 'contemporary', 'country', 'cuban', 'dance',\n",
       "       'dancehall', 'dancepop', 'dark', 'death', 'deep', 'deutschrock',\n",
       "       'deutschspr', 'dirty', 'disco', 'dnb', 'documentary', 'downbeat',\n",
       "       'downtempo', 'drum', 'dub', 'dubstep', 'eastern', 'easy',\n",
       "       'electronic', 'electropop', 'emo', 'entehno', 'epicmetal',\n",
       "       'estrada', 'ethnic', 'eurofolk', 'european', 'experimental',\n",
       "       'extrememetal', 'fado', 'film', 'fitness', 'flamenco', 'folk',\n",
       "       'folklore', 'folkmetal', 'folkrock', 'folktronica', 'forró',\n",
       "       'frankreich', 'französisch', 'french', 'funk', 'future', 'gangsta',\n",
       "       'garage', 'german', 'ghazal', 'gitarre', 'glitch', 'gospel',\n",
       "       'gothic', 'grime', 'grunge', 'gypsy', 'handsup', \"hard'n'heavy\",\n",
       "       'hardcore', 'hardstyle', 'hardtechno', 'hiphop', 'historisch',\n",
       "       'holiday', 'horror', 'house', 'idm', 'independent', 'indian',\n",
       "       'indie', 'indipop', 'industrial', 'inspirational', 'instrumental',\n",
       "       'international', 'irish', 'jam', 'japanese', 'jazz', 'jewish',\n",
       "       'jpop', 'jungle', 'k-pop', 'karadeniz', 'karaoke', 'kayokyoku',\n",
       "       'korean', 'laiko', 'latin', 'latino', 'leftfield', 'local',\n",
       "       'lounge', 'loungeelectronic', 'lovers', 'malaysian', 'mandopop',\n",
       "       'marschmusik', 'meditative', 'mediterranean', 'melodic', 'metal',\n",
       "       'metalcore', 'mexican', 'middle', 'minimal', 'miscellaneous',\n",
       "       'modern', 'mood', 'mpb', 'muslim', 'native', 'neoklassik', 'neue',\n",
       "       'new', 'newage', 'newwave', 'nu', 'nujazz', 'numetal', 'oceania',\n",
       "       'old', 'opera', 'orchestral', 'other', 'piano', 'pop',\n",
       "       'popelectronic', 'popeurodance', 'post', 'posthardcore',\n",
       "       'postrock', 'power', 'progmetal', 'progressive', 'psychedelic',\n",
       "       'punjabi', 'punk', 'quebecois', 'ragga', 'ram', 'rancheras', 'rap',\n",
       "       'rave', 'reggae', 'reggaeton', 'regional', 'relax', 'religious',\n",
       "       'retro', 'rhythm', 'rnb', 'rnr', 'rock', 'rockabilly', 'romance',\n",
       "       'roots', 'ruspop', 'rusrap', 'rusrock', 'salsa', 'samba',\n",
       "       'schlager', 'self', 'sertanejo', 'shoegazing', 'showtunes',\n",
       "       'singer', 'ska', 'slow', 'smooth', 'soul', 'soulful', 'sound',\n",
       "       'soundtrack', 'southern', 'specialty', 'speech', 'spiritual',\n",
       "       'sport', 'stonerrock', 'surf', 'swing', 'synthpop',\n",
       "       'sängerportrait', 'tango', 'tanzorchester', 'taraftar', 'tech',\n",
       "       'techno', 'thrash', 'top', 'traditional', 'tradjazz', 'trance',\n",
       "       'tribal', 'trip', 'triphop', 'tropical', 'türk', 'türkçe',\n",
       "       'unknown', 'urban', 'uzbek', 'variété', 'vi', 'videogame', 'vocal',\n",
       "       'western', 'world', 'worldbeat', 'ïîï'], dtype=object)"
      ]
     },
     "execution_count": 20,
     "metadata": {},
     "output_type": "execute_result"
    }
   ],
   "source": [
    "# check genre column to see whether if the implicit duplicate still persists\n",
    "kolom_genre = df['genre']\n",
    "genre_urut = kolom_genre.sort_values()\n",
    "genre_urut.unique()"
   ]
  },
  {
   "attachments": {},
   "cell_type": "markdown",
   "metadata": {
    "id": "ALgNbvF3VtPA"
   },
   "source": [
    "[Back to Contents](#back)"
   ]
  },
  {
   "attachments": {},
   "cell_type": "markdown",
   "metadata": {
    "id": "jz6a9-7HQUDd"
   },
   "source": [
    "### Conclusions <a id='data_preprocessing_conclusions'></a>\n",
    "We have detected three issues with the data:\n",
    "\n",
    "Incorrect title formatting\n",
    "Missing values\n",
    "Clear and implicit duplicates\n",
    "The titles have been cleaned for easier table processing.\n",
    "\n",
    "All missing values have been replaced with 'unknown'. However, we still need to assess if the missing values in the 'genre' column will impact our calculations.\n",
    "\n",
    "The absence of duplicates will make the results more accurate and easier to interpret.\n",
    "\n",
    "Now, we can proceed to hypothesis testing."
   ]
  },
  {
   "attachments": {},
   "cell_type": "markdown",
   "metadata": {
    "id": "eK1es74rVujj"
   },
   "source": [
    "[Back to Contents](#back)"
   ]
  },
  {
   "attachments": {},
   "cell_type": "markdown",
   "metadata": {
    "id": "WttZHXH0SqKk"
   },
   "source": [
    "## 3. Hypothesis Testing <a id='hypotheses'></a>"
   ]
  },
  {
   "attachments": {},
   "cell_type": "markdown",
   "metadata": {
    "id": "Im936VVi_Zcu"
   },
   "source": [
    "### Hypothesis 1: Comparing User Behavior in Two Cities <a id='activity'></a>"
   ]
  },
  {
   "attachments": {},
   "cell_type": "markdown",
   "metadata": {
    "id": "nwt_MuaL_Zcu"
   },
   "source": [
    "According to the first hypothesis, users from Springfield and Shelbyville have differences in their music listening behavior. This test utilizes data from Mondays, Wednesdays, and Fridays.\n",
    "\n",
    "- Separate the users into groups based on the city.\n",
    "- Compare the number of songs played by each group on Mondays, Wednesdays, and Fridays."
   ]
  },
  {
   "cell_type": "code",
   "execution_count": 21,
   "metadata": {
    "id": "0_Qs96oh_Zcu"
   },
   "outputs": [
    {
     "data": {
      "text/plain": [
       "city\n",
       "Shelbyville    18512\n",
       "Springfield    42741\n",
       "Name: track, dtype: int64"
      ]
     },
     "execution_count": 21,
     "metadata": {},
     "output_type": "execute_result"
    }
   ],
   "source": [
    "# Calculating the number of songs played in each city.\n",
    "track_per_city = df.groupby('city')['track'].count()\n",
    "track_per_city"
   ]
  },
  {
   "attachments": {},
   "cell_type": "markdown",
   "metadata": {
    "id": "dzli3w8o_Zcu"
   },
   "source": [
    "Springfield has more songs played than Shelbyville. However, it doesn't necessarily mean that the residents of Springfield listen to music more often. Springfield is a larger city and has more users.\n",
    "\n",
    "Now, let's group the data by day and find the number of songs played on Monday, Wednesday, and Friday."
   ]
  },
  {
   "cell_type": "code",
   "execution_count": 22,
   "metadata": {
    "id": "uZMKjiJz_Zcu",
    "scrolled": true
   },
   "outputs": [
    {
     "data": {
      "text/plain": [
       "day\n",
       "Friday       21840\n",
       "Monday       21354\n",
       "Wednesday    18059\n",
       "Name: track, dtype: int64"
      ]
     },
     "execution_count": 22,
     "metadata": {},
     "output_type": "execute_result"
    }
   ],
   "source": [
    "# Calculating track per day\n",
    "track_per_day = df.groupby('day')['track'].count()\n",
    "track_per_day"
   ]
  },
  {
   "cell_type": "code",
   "execution_count": 23,
   "metadata": {
    "id": "Nz3GdQB1_Zcu"
   },
   "outputs": [],
   "source": [
    "def number_tracks(dataset, day, city):\n",
    "    track_list = dataset.loc[(dataset['day'] == day) & (dataset['city'] == city)]\n",
    "    track_list_count = track_list.groupby('city')['user_id'].count()\n",
    "    \n",
    "    return track_list_count"
   ]
  },
  {
   "cell_type": "code",
   "execution_count": 24,
   "metadata": {
    "id": "rJcRATNQ_Zcu"
   },
   "outputs": [
    {
     "data": {
      "text/plain": [
       "15740"
      ]
     },
     "execution_count": 24,
     "metadata": {},
     "output_type": "execute_result"
    }
   ],
   "source": [
    "# the total number tracks on Monday in Springfield\n",
    "spr_senin = number_tracks(dataset=df, day = 'Monday', city = 'Springfield')\n",
    "spr_senin2 = spr_senin[0]\n",
    "spr_senin2"
   ]
  },
  {
   "cell_type": "code",
   "execution_count": 25,
   "metadata": {
    "id": "hq_ncZ5T_Zcu"
   },
   "outputs": [
    {
     "data": {
      "text/plain": [
       "5614"
      ]
     },
     "execution_count": 25,
     "metadata": {},
     "output_type": "execute_result"
    }
   ],
   "source": [
    "# the total number tracks on Monday in Shelbyville\n",
    "shel_senin = number_tracks(dataset=df, day = 'Monday', city = 'Shelbyville')\n",
    "shel_senin2 = shel_senin[0]\n",
    "shel_senin2"
   ]
  },
  {
   "cell_type": "code",
   "execution_count": 26,
   "metadata": {
    "id": "_NTy2VPU_Zcu"
   },
   "outputs": [
    {
     "data": {
      "text/plain": [
       "11056"
      ]
     },
     "execution_count": 26,
     "metadata": {},
     "output_type": "execute_result"
    }
   ],
   "source": [
    "#  the total number tracks on Wednesday in Springfield\n",
    "spr_rabu = number_tracks(dataset=df, day = 'Wednesday', city = 'Springfield')\n",
    "spr_rabu2 = spr_rabu[0]\n",
    "spr_rabu2"
   ]
  },
  {
   "cell_type": "code",
   "execution_count": 27,
   "metadata": {
    "id": "j2y3TAwo_Zcu"
   },
   "outputs": [
    {
     "data": {
      "text/plain": [
       "7003"
      ]
     },
     "execution_count": 27,
     "metadata": {},
     "output_type": "execute_result"
    }
   ],
   "source": [
    "#  the total number tracks on Wednesday in Shelbyville\n",
    "shel_rabu = number_tracks(dataset=df, day = 'Wednesday', city = 'Shelbyville')\n",
    "shel_rabu2 = shel_rabu[0]\n",
    "shel_rabu2"
   ]
  },
  {
   "cell_type": "code",
   "execution_count": 28,
   "metadata": {
    "id": "vYDw5u_K_Zcu"
   },
   "outputs": [
    {
     "data": {
      "text/plain": [
       "15945"
      ]
     },
     "execution_count": 28,
     "metadata": {},
     "output_type": "execute_result"
    }
   ],
   "source": [
    "# the total number tracks on Friday in Springfield\n",
    "spr_jumat = number_tracks(dataset=df, day = 'Friday', city = 'Springfield')\n",
    "spr_jumat2 = spr_jumat[0]\n",
    "spr_jumat2"
   ]
  },
  {
   "cell_type": "code",
   "execution_count": 29,
   "metadata": {
    "id": "8_yzFtW3_Zcu"
   },
   "outputs": [
    {
     "data": {
      "text/plain": [
       "5895"
      ]
     },
     "execution_count": 29,
     "metadata": {},
     "output_type": "execute_result"
    }
   ],
   "source": [
    "# the total number tracks on Friday in Shelbyville\n",
    "shel_jumat = number_tracks(dataset=df, day = 'Friday', city = 'Shelbyville')\n",
    "shel_jumat2 = shel_jumat[0]\n",
    "shel_jumat2"
   ]
  },
  {
   "cell_type": "code",
   "execution_count": 30,
   "metadata": {
    "id": "APAcLpOr_Zcu"
   },
   "outputs": [
    {
     "data": {
      "text/html": [
       "<div>\n",
       "<style scoped>\n",
       "    .dataframe tbody tr th:only-of-type {\n",
       "        vertical-align: middle;\n",
       "    }\n",
       "\n",
       "    .dataframe tbody tr th {\n",
       "        vertical-align: top;\n",
       "    }\n",
       "\n",
       "    .dataframe thead th {\n",
       "        text-align: right;\n",
       "    }\n",
       "</style>\n",
       "<table border=\"1\" class=\"dataframe\">\n",
       "  <thead>\n",
       "    <tr style=\"text-align: right;\">\n",
       "      <th></th>\n",
       "      <th>city</th>\n",
       "      <th>monday</th>\n",
       "      <th>wednesday</th>\n",
       "      <th>friday</th>\n",
       "    </tr>\n",
       "  </thead>\n",
       "  <tbody>\n",
       "    <tr>\n",
       "      <th>0</th>\n",
       "      <td>Springfield</td>\n",
       "      <td>15740</td>\n",
       "      <td>11056</td>\n",
       "      <td>15945</td>\n",
       "    </tr>\n",
       "    <tr>\n",
       "      <th>1</th>\n",
       "      <td>Shelbyville</td>\n",
       "      <td>5614</td>\n",
       "      <td>7003</td>\n",
       "      <td>5895</td>\n",
       "    </tr>\n",
       "  </tbody>\n",
       "</table>\n",
       "</div>"
      ],
      "text/plain": [
       "          city  monday  wednesday  friday\n",
       "0  Springfield   15740      11056   15945\n",
       "1  Shelbyville    5614       7003    5895"
      ]
     },
     "execution_count": 30,
     "metadata": {},
     "output_type": "execute_result"
    }
   ],
   "source": [
    "# table with result\n",
    "kolom = ['city', 'monday', 'wednesday', 'friday']\n",
    "kota = [\n",
    "    ['Springfield', spr_senin2, spr_rabu2, spr_jumat2],\n",
    "    ['Shelbyville', shel_senin2, shel_rabu2, shel_jumat2]\n",
    "]\n",
    "\n",
    "result = pd.DataFrame(data=kota, columns=kolom)\n",
    "result"
   ]
  },
  {
   "attachments": {},
   "cell_type": "markdown",
   "metadata": {
    "id": "-EgPIHYu_Zcu"
   },
   "source": [
    "**Conclusion**\n",
    "\n",
    "The data reveals differences in user behavior:\n",
    "\n",
    "- In Springfield, the number of songs played reaches its peak on Mondays and Fridays, while there is a decline in activity on Wednesdays.\n",
    "- In Shelbyville, on the other hand, users listen to more music on Wednesdays.\n",
    "\n",
    "User activity is lower on Mondays and Fridays."
   ]
  },
  {
   "attachments": {},
   "cell_type": "markdown",
   "metadata": {
    "id": "p7nFQajCVw5B"
   },
   "source": [
    "[Back to Contents](#back)"
   ]
  },
  {
   "attachments": {},
   "cell_type": "markdown",
   "metadata": {
    "id": "atZAxtq4_Zcu"
   },
   "source": [
    "### Hypothesis 2: Music prefrences at the Beginning and End of the Week <a id='week'></a>"
   ]
  },
  {
   "attachments": {},
   "cell_type": "markdown",
   "metadata": {
    "id": "eXrQqXFH_Zcu"
   },
   "source": [
    "According to the second hypothesis, on Monday mornings and Friday evenings, residents of Springfield listen to different genres compared to the ones enjoyed by Shelbyville residents."
   ]
  },
  {
   "cell_type": "code",
   "execution_count": 31,
   "metadata": {
    "id": "qeaFfM_P_Zcu"
   },
   "outputs": [
    {
     "data": {
      "text/html": [
       "<div>\n",
       "<style scoped>\n",
       "    .dataframe tbody tr th:only-of-type {\n",
       "        vertical-align: middle;\n",
       "    }\n",
       "\n",
       "    .dataframe tbody tr th {\n",
       "        vertical-align: top;\n",
       "    }\n",
       "\n",
       "    .dataframe thead th {\n",
       "        text-align: right;\n",
       "    }\n",
       "</style>\n",
       "<table border=\"1\" class=\"dataframe\">\n",
       "  <thead>\n",
       "    <tr style=\"text-align: right;\">\n",
       "      <th></th>\n",
       "      <th>user_id</th>\n",
       "      <th>track</th>\n",
       "      <th>artist</th>\n",
       "      <th>genre</th>\n",
       "      <th>city</th>\n",
       "      <th>time</th>\n",
       "      <th>day</th>\n",
       "    </tr>\n",
       "  </thead>\n",
       "  <tbody>\n",
       "    <tr>\n",
       "      <th>1</th>\n",
       "      <td>55204538</td>\n",
       "      <td>Delayed Because of Accident</td>\n",
       "      <td>Andreas Rönnberg</td>\n",
       "      <td>rock</td>\n",
       "      <td>Springfield</td>\n",
       "      <td>14:07:09</td>\n",
       "      <td>Friday</td>\n",
       "    </tr>\n",
       "    <tr>\n",
       "      <th>4</th>\n",
       "      <td>E2DC1FAE</td>\n",
       "      <td>Soul People</td>\n",
       "      <td>Space Echo</td>\n",
       "      <td>dance</td>\n",
       "      <td>Springfield</td>\n",
       "      <td>08:34:34</td>\n",
       "      <td>Monday</td>\n",
       "    </tr>\n",
       "    <tr>\n",
       "      <th>6</th>\n",
       "      <td>4CB90AA5</td>\n",
       "      <td>True</td>\n",
       "      <td>Roman Messer</td>\n",
       "      <td>dance</td>\n",
       "      <td>Springfield</td>\n",
       "      <td>13:00:07</td>\n",
       "      <td>Wednesday</td>\n",
       "    </tr>\n",
       "    <tr>\n",
       "      <th>7</th>\n",
       "      <td>F03E1C1F</td>\n",
       "      <td>Feeling This Way</td>\n",
       "      <td>Polina Griffith</td>\n",
       "      <td>dance</td>\n",
       "      <td>Springfield</td>\n",
       "      <td>20:47:49</td>\n",
       "      <td>Wednesday</td>\n",
       "    </tr>\n",
       "    <tr>\n",
       "      <th>8</th>\n",
       "      <td>8FA1D3BE</td>\n",
       "      <td>L’estate</td>\n",
       "      <td>Julia Dalia</td>\n",
       "      <td>ruspop</td>\n",
       "      <td>Springfield</td>\n",
       "      <td>09:17:40</td>\n",
       "      <td>Friday</td>\n",
       "    </tr>\n",
       "    <tr>\n",
       "      <th>...</th>\n",
       "      <td>...</td>\n",
       "      <td>...</td>\n",
       "      <td>...</td>\n",
       "      <td>...</td>\n",
       "      <td>...</td>\n",
       "      <td>...</td>\n",
       "      <td>...</td>\n",
       "    </tr>\n",
       "    <tr>\n",
       "      <th>61247</th>\n",
       "      <td>83A474E7</td>\n",
       "      <td>I Worship Only What You Bleed</td>\n",
       "      <td>The Black Dahlia Murder</td>\n",
       "      <td>extrememetal</td>\n",
       "      <td>Springfield</td>\n",
       "      <td>21:07:12</td>\n",
       "      <td>Monday</td>\n",
       "    </tr>\n",
       "    <tr>\n",
       "      <th>61248</th>\n",
       "      <td>729CBB09</td>\n",
       "      <td>My Name</td>\n",
       "      <td>McLean</td>\n",
       "      <td>rnb</td>\n",
       "      <td>Springfield</td>\n",
       "      <td>13:32:28</td>\n",
       "      <td>Wednesday</td>\n",
       "    </tr>\n",
       "    <tr>\n",
       "      <th>61250</th>\n",
       "      <td>C5E3A0D5</td>\n",
       "      <td>Jalopiina</td>\n",
       "      <td>unknown</td>\n",
       "      <td>industrial</td>\n",
       "      <td>Springfield</td>\n",
       "      <td>20:09:26</td>\n",
       "      <td>Friday</td>\n",
       "    </tr>\n",
       "    <tr>\n",
       "      <th>61251</th>\n",
       "      <td>321D0506</td>\n",
       "      <td>Freight Train</td>\n",
       "      <td>Chas McDevitt</td>\n",
       "      <td>rock</td>\n",
       "      <td>Springfield</td>\n",
       "      <td>21:43:59</td>\n",
       "      <td>Friday</td>\n",
       "    </tr>\n",
       "    <tr>\n",
       "      <th>61252</th>\n",
       "      <td>3A64EF84</td>\n",
       "      <td>Tell Me Sweet Little Lies</td>\n",
       "      <td>Monica Lopez</td>\n",
       "      <td>country</td>\n",
       "      <td>Springfield</td>\n",
       "      <td>21:59:46</td>\n",
       "      <td>Friday</td>\n",
       "    </tr>\n",
       "  </tbody>\n",
       "</table>\n",
       "<p>42741 rows × 7 columns</p>\n",
       "</div>"
      ],
      "text/plain": [
       "        user_id                          track                   artist  \\\n",
       "1      55204538    Delayed Because of Accident         Andreas Rönnberg   \n",
       "4      E2DC1FAE                    Soul People               Space Echo   \n",
       "6      4CB90AA5                           True             Roman Messer   \n",
       "7      F03E1C1F               Feeling This Way          Polina Griffith   \n",
       "8      8FA1D3BE                       L’estate              Julia Dalia   \n",
       "...         ...                            ...                      ...   \n",
       "61247  83A474E7  I Worship Only What You Bleed  The Black Dahlia Murder   \n",
       "61248  729CBB09                        My Name                   McLean   \n",
       "61250  C5E3A0D5                      Jalopiina                  unknown   \n",
       "61251  321D0506                  Freight Train            Chas McDevitt   \n",
       "61252  3A64EF84      Tell Me Sweet Little Lies             Monica Lopez   \n",
       "\n",
       "              genre         city      time        day  \n",
       "1              rock  Springfield  14:07:09     Friday  \n",
       "4             dance  Springfield  08:34:34     Monday  \n",
       "6             dance  Springfield  13:00:07  Wednesday  \n",
       "7             dance  Springfield  20:47:49  Wednesday  \n",
       "8            ruspop  Springfield  09:17:40     Friday  \n",
       "...             ...          ...       ...        ...  \n",
       "61247  extrememetal  Springfield  21:07:12     Monday  \n",
       "61248           rnb  Springfield  13:32:28  Wednesday  \n",
       "61250    industrial  Springfield  20:09:26     Friday  \n",
       "61251          rock  Springfield  21:43:59     Friday  \n",
       "61252       country  Springfield  21:59:46     Friday  \n",
       "\n",
       "[42741 rows x 7 columns]"
      ]
     },
     "execution_count": 31,
     "metadata": {},
     "output_type": "execute_result"
    }
   ],
   "source": [
    "spr_general = df.loc[(df['city'] == 'Springfield')]\n",
    "spr_general"
   ]
  },
  {
   "cell_type": "code",
   "execution_count": 32,
   "metadata": {
    "id": "ORaVRKto_Zcu"
   },
   "outputs": [
    {
     "data": {
      "text/html": [
       "<div>\n",
       "<style scoped>\n",
       "    .dataframe tbody tr th:only-of-type {\n",
       "        vertical-align: middle;\n",
       "    }\n",
       "\n",
       "    .dataframe tbody tr th {\n",
       "        vertical-align: top;\n",
       "    }\n",
       "\n",
       "    .dataframe thead th {\n",
       "        text-align: right;\n",
       "    }\n",
       "</style>\n",
       "<table border=\"1\" class=\"dataframe\">\n",
       "  <thead>\n",
       "    <tr style=\"text-align: right;\">\n",
       "      <th></th>\n",
       "      <th>user_id</th>\n",
       "      <th>track</th>\n",
       "      <th>artist</th>\n",
       "      <th>genre</th>\n",
       "      <th>city</th>\n",
       "      <th>time</th>\n",
       "      <th>day</th>\n",
       "    </tr>\n",
       "  </thead>\n",
       "  <tbody>\n",
       "    <tr>\n",
       "      <th>0</th>\n",
       "      <td>FFB692EC</td>\n",
       "      <td>Kamigata To Boots</td>\n",
       "      <td>The Mass Missile</td>\n",
       "      <td>rock</td>\n",
       "      <td>Shelbyville</td>\n",
       "      <td>20:28:33</td>\n",
       "      <td>Wednesday</td>\n",
       "    </tr>\n",
       "    <tr>\n",
       "      <th>2</th>\n",
       "      <td>20EC38</td>\n",
       "      <td>Funiculì funiculà</td>\n",
       "      <td>Mario Lanza</td>\n",
       "      <td>pop</td>\n",
       "      <td>Shelbyville</td>\n",
       "      <td>20:58:07</td>\n",
       "      <td>Wednesday</td>\n",
       "    </tr>\n",
       "    <tr>\n",
       "      <th>3</th>\n",
       "      <td>A3DD03C9</td>\n",
       "      <td>Dragons in the Sunset</td>\n",
       "      <td>Fire + Ice</td>\n",
       "      <td>folk</td>\n",
       "      <td>Shelbyville</td>\n",
       "      <td>08:37:09</td>\n",
       "      <td>Monday</td>\n",
       "    </tr>\n",
       "    <tr>\n",
       "      <th>5</th>\n",
       "      <td>842029A1</td>\n",
       "      <td>Chains</td>\n",
       "      <td>Obladaet</td>\n",
       "      <td>rusrap</td>\n",
       "      <td>Shelbyville</td>\n",
       "      <td>13:09:41</td>\n",
       "      <td>Friday</td>\n",
       "    </tr>\n",
       "    <tr>\n",
       "      <th>9</th>\n",
       "      <td>E772D5C0</td>\n",
       "      <td>Pessimist</td>\n",
       "      <td>unknown</td>\n",
       "      <td>dance</td>\n",
       "      <td>Shelbyville</td>\n",
       "      <td>21:20:49</td>\n",
       "      <td>Wednesday</td>\n",
       "    </tr>\n",
       "    <tr>\n",
       "      <th>...</th>\n",
       "      <td>...</td>\n",
       "      <td>...</td>\n",
       "      <td>...</td>\n",
       "      <td>...</td>\n",
       "      <td>...</td>\n",
       "      <td>...</td>\n",
       "      <td>...</td>\n",
       "    </tr>\n",
       "    <tr>\n",
       "      <th>61239</th>\n",
       "      <td>D94F810B</td>\n",
       "      <td>Theme from the Walking Dead</td>\n",
       "      <td>Proyecto Halloween</td>\n",
       "      <td>film</td>\n",
       "      <td>Shelbyville</td>\n",
       "      <td>21:14:40</td>\n",
       "      <td>Monday</td>\n",
       "    </tr>\n",
       "    <tr>\n",
       "      <th>61240</th>\n",
       "      <td>BC8EC5CF</td>\n",
       "      <td>Red Lips: Gta (Rover Rework)</td>\n",
       "      <td>Rover</td>\n",
       "      <td>electronic</td>\n",
       "      <td>Shelbyville</td>\n",
       "      <td>21:06:50</td>\n",
       "      <td>Monday</td>\n",
       "    </tr>\n",
       "    <tr>\n",
       "      <th>61241</th>\n",
       "      <td>29E04611</td>\n",
       "      <td>Bre Petrunko</td>\n",
       "      <td>Perunika Trio</td>\n",
       "      <td>world</td>\n",
       "      <td>Shelbyville</td>\n",
       "      <td>13:56:00</td>\n",
       "      <td>Monday</td>\n",
       "    </tr>\n",
       "    <tr>\n",
       "      <th>61242</th>\n",
       "      <td>1B91C621</td>\n",
       "      <td>(Hello) Cloud Mountain</td>\n",
       "      <td>sleepmakeswaves</td>\n",
       "      <td>postrock</td>\n",
       "      <td>Shelbyville</td>\n",
       "      <td>09:22:13</td>\n",
       "      <td>Monday</td>\n",
       "    </tr>\n",
       "    <tr>\n",
       "      <th>61249</th>\n",
       "      <td>D08D4A55</td>\n",
       "      <td>Maybe One Day (feat. Black Spade)</td>\n",
       "      <td>Blu &amp; Exile</td>\n",
       "      <td>hiphop</td>\n",
       "      <td>Shelbyville</td>\n",
       "      <td>10:00:00</td>\n",
       "      <td>Monday</td>\n",
       "    </tr>\n",
       "  </tbody>\n",
       "</table>\n",
       "<p>18512 rows × 7 columns</p>\n",
       "</div>"
      ],
      "text/plain": [
       "        user_id                              track              artist  \\\n",
       "0      FFB692EC                  Kamigata To Boots    The Mass Missile   \n",
       "2        20EC38                  Funiculì funiculà         Mario Lanza   \n",
       "3      A3DD03C9              Dragons in the Sunset          Fire + Ice   \n",
       "5      842029A1                             Chains            Obladaet   \n",
       "9      E772D5C0                          Pessimist             unknown   \n",
       "...         ...                                ...                 ...   \n",
       "61239  D94F810B        Theme from the Walking Dead  Proyecto Halloween   \n",
       "61240  BC8EC5CF       Red Lips: Gta (Rover Rework)               Rover   \n",
       "61241  29E04611                       Bre Petrunko       Perunika Trio   \n",
       "61242  1B91C621             (Hello) Cloud Mountain     sleepmakeswaves   \n",
       "61249  D08D4A55  Maybe One Day (feat. Black Spade)         Blu & Exile   \n",
       "\n",
       "            genre         city      time        day  \n",
       "0            rock  Shelbyville  20:28:33  Wednesday  \n",
       "2             pop  Shelbyville  20:58:07  Wednesday  \n",
       "3            folk  Shelbyville  08:37:09     Monday  \n",
       "5          rusrap  Shelbyville  13:09:41     Friday  \n",
       "9           dance  Shelbyville  21:20:49  Wednesday  \n",
       "...           ...          ...       ...        ...  \n",
       "61239        film  Shelbyville  21:14:40     Monday  \n",
       "61240  electronic  Shelbyville  21:06:50     Monday  \n",
       "61241       world  Shelbyville  13:56:00     Monday  \n",
       "61242    postrock  Shelbyville  09:22:13     Monday  \n",
       "61249      hiphop  Shelbyville  10:00:00     Monday  \n",
       "\n",
       "[18512 rows x 7 columns]"
      ]
     },
     "execution_count": 32,
     "metadata": {},
     "output_type": "execute_result"
    }
   ],
   "source": [
    "shel_general = df.loc[(df['city'] == 'Shelbyville')]\n",
    "shel_general"
   ]
  },
  {
   "cell_type": "code",
   "execution_count": 33,
   "metadata": {
    "id": "laJT9BYl_Zcu"
   },
   "outputs": [],
   "source": [
    "def genre_weekday(dataset, day, time1, time2):\n",
    "    genre_df = dataset.loc[(dataset['day'] == day) & (dataset['time'] > time1) & (dataset['time'] < time2)]\n",
    "    genre_df_count = genre_df.groupby('genre')['time'].count()\n",
    "    genre_df_sorted = genre_df_count.sort_values(ascending=False)\n",
    "    \n",
    "    return genre_df_sorted[:15]"
   ]
  },
  {
   "cell_type": "code",
   "execution_count": 34,
   "metadata": {
    "id": "yz7itPUQ_Zcu"
   },
   "outputs": [
    {
     "data": {
      "text/plain": [
       "genre\n",
       "pop            781\n",
       "dance          549\n",
       "electronic     480\n",
       "rock           474\n",
       "hiphop         286\n",
       "ruspop         186\n",
       "world          181\n",
       "rusrap         175\n",
       "alternative    164\n",
       "unknown        161\n",
       "classical      157\n",
       "metal          120\n",
       "jazz           100\n",
       "folk            97\n",
       "soundtrack      95\n",
       "Name: time, dtype: int64"
      ]
     },
     "execution_count": 34,
     "metadata": {},
     "output_type": "execute_result"
    }
   ],
   "source": [
    "# The most popular genre on Monday morning in Springfield\n",
    "genre_spr_senin_pg = genre_weekday(dataset = spr_general, day = 'Monday', time1 = '07:00:00', time2 = '11:00:00')\n",
    "genre_spr_senin_pg"
   ]
  },
  {
   "cell_type": "code",
   "execution_count": 35,
   "metadata": {
    "id": "kwUcHPdy_Zcu"
   },
   "outputs": [
    {
     "data": {
      "text/plain": [
       "genre\n",
       "pop            218\n",
       "dance          182\n",
       "rock           162\n",
       "electronic     147\n",
       "hiphop          80\n",
       "ruspop          64\n",
       "alternative     58\n",
       "rusrap          55\n",
       "jazz            44\n",
       "classical       40\n",
       "world           36\n",
       "rap             32\n",
       "soundtrack      31\n",
       "rnb             27\n",
       "metal           27\n",
       "Name: time, dtype: int64"
      ]
     },
     "execution_count": 35,
     "metadata": {},
     "output_type": "execute_result"
    }
   ],
   "source": [
    "# The most popular genre on Monday morning in Shelbyville\n",
    "genre_shel_senin_pg = genre_weekday(dataset = shel_general, day = 'Monday', time1 = '07:00:00', time2 = '11:00:00')\n",
    "genre_shel_senin_pg"
   ]
  },
  {
   "cell_type": "code",
   "execution_count": 36,
   "metadata": {
    "id": "EzXVRE1o_Zcu"
   },
   "outputs": [
    {
     "data": {
      "text/plain": [
       "genre\n",
       "pop            717\n",
       "dance          524\n",
       "rock           518\n",
       "electronic     485\n",
       "hiphop         238\n",
       "alternative    182\n",
       "world          172\n",
       "classical      172\n",
       "ruspop         149\n",
       "rusrap         133\n",
       "jazz           124\n",
       "unknown        109\n",
       "soundtrack      92\n",
       "folk            89\n",
       "metal           88\n",
       "Name: time, dtype: int64"
      ]
     },
     "execution_count": 36,
     "metadata": {},
     "output_type": "execute_result"
    }
   ],
   "source": [
    "# The most popular genre on Monday evening in Springfield\n",
    "genre_spr_jumat_malam = genre_weekday(dataset = spr_general, day = 'Monday', time1 = '17:00:00', time2 = '23:00:00')\n",
    "genre_spr_jumat_malam"
   ]
  },
  {
   "cell_type": "code",
   "execution_count": 37,
   "metadata": {
    "id": "JZaEKu5v_Zcu"
   },
   "outputs": [
    {
     "data": {
      "text/plain": [
       "genre\n",
       "pop            263\n",
       "rock           208\n",
       "electronic     192\n",
       "dance          191\n",
       "hiphop         104\n",
       "alternative     72\n",
       "classical       71\n",
       "jazz            57\n",
       "rusrap          54\n",
       "ruspop          53\n",
       "world           52\n",
       "unknown         51\n",
       "metal           43\n",
       "folk            39\n",
       "soundtrack      37\n",
       "Name: time, dtype: int64"
      ]
     },
     "execution_count": 37,
     "metadata": {},
     "output_type": "execute_result"
    }
   ],
   "source": [
    "# The most popular genre on Monday evening in Springfield\n",
    "genre_shel_jumat_malam = genre_weekday(dataset = shel_general, day = 'Monday', time1 = '17:00:00', time2 = '23:00:00')\n",
    "genre_shel_jumat_malam"
   ]
  },
  {
   "attachments": {},
   "cell_type": "markdown",
   "metadata": {
    "id": "wrCe4MNX_Zcu"
   },
   "source": [
    "**Conclusion**\n",
    "\n",
    "After comparing the top 15 genres on Monday mornings, we can draw the following conclusions:\n",
    "\n",
    "1. Users from Springfield and Shelbyville listen to music with the same genres. The top five genres are the same, with only rock and electronic interchanging positions.\n",
    "\n",
    "2. In Springfield, the number of missing values is significant, with `'unknown'` appearing in the 10th position. This indicates that the missing values have a substantial amount of data, which raises concerns about the accuracy of our conclusions.\n",
    "\n",
    "For Friday evenings, the situation is similar. Individual genres vary slightly, but overall, the top 15 genres for both cities are the same.\n",
    "\n",
    "Thus, the second hypothesis is partially confirmed:\n",
    "* Users listen to the same music at the beginning and end of the week.\n",
    "* There are no significant differences between Springfield and Shelbyville. In both cities, pop is the most popular genre.\n",
    "\n",
    "However, the number of missing values raises doubts about these results. In Springfield, there are so many influences on our top 15. If we do not disregard these values, the results may differ."
   ]
  },
  {
   "attachments": {},
   "cell_type": "markdown",
   "metadata": {
    "id": "jLmXgdanVyhP"
   },
   "source": [
    "[Back to Contents](#back)"
   ]
  },
  {
   "attachments": {},
   "cell_type": "markdown",
   "metadata": {
    "id": "JolODAqr_Zcu"
   },
   "source": [
    "### Hypothesis 3: Genre Preferences in Springfield and Shelbyville <a id='genre'></a>\n",
    "\n",
    "Shelbyville prefers rap music, while residents of Springfield have a greater preference for pop music."
   ]
  },
  {
   "cell_type": "code",
   "execution_count": 38,
   "metadata": {
    "id": "r19lIPke_Zcu"
   },
   "outputs": [
    {
     "data": {
      "text/plain": [
       "genre\n",
       "pop            5892\n",
       "dance          4435\n",
       "rock           3965\n",
       "electronic     3786\n",
       "hiphop         2096\n",
       "               ... \n",
       "metalcore         1\n",
       "marschmusik       1\n",
       "malaysian         1\n",
       "lovers            1\n",
       "ïîï               1\n",
       "Name: genre, Length: 250, dtype: int64"
      ]
     },
     "execution_count": 38,
     "metadata": {},
     "output_type": "execute_result"
    }
   ],
   "source": [
    "spr_groupby = spr_general.groupby('genre')['genre'].count()\n",
    "spr_genres = spr_groupby.sort_values(ascending=False)\n",
    "spr_genres"
   ]
  },
  {
   "cell_type": "code",
   "execution_count": 39,
   "metadata": {
    "id": "WhCSooF8_Zcv"
   },
   "outputs": [
    {
     "data": {
      "text/plain": [
       "genre\n",
       "pop            5892\n",
       "dance          4435\n",
       "rock           3965\n",
       "electronic     3786\n",
       "hiphop         2096\n",
       "classical      1616\n",
       "world          1432\n",
       "alternative    1379\n",
       "ruspop         1372\n",
       "rusrap         1161\n",
       "Name: genre, dtype: int64"
      ]
     },
     "execution_count": 39,
     "metadata": {},
     "output_type": "execute_result"
    }
   ],
   "source": [
    "spr_genres.head(10)"
   ]
  },
  {
   "cell_type": "code",
   "execution_count": 40,
   "metadata": {
    "id": "gluLIpE7_Zcv"
   },
   "outputs": [
    {
     "data": {
      "text/plain": [
       "genre\n",
       "pop           2431\n",
       "dance         1932\n",
       "rock          1879\n",
       "electronic    1736\n",
       "hiphop         960\n",
       "              ... \n",
       "mandopop         1\n",
       "leftfield        1\n",
       "laiko            1\n",
       "jungle           1\n",
       "worldbeat        1\n",
       "Name: genre, Length: 202, dtype: int64"
      ]
     },
     "execution_count": 40,
     "metadata": {},
     "output_type": "execute_result"
    }
   ],
   "source": [
    "shel_groupby = shel_general.groupby('genre')['genre'].count()\n",
    "shel_genres = shel_groupby.sort_values(ascending=False)\n",
    "shel_genres"
   ]
  },
  {
   "cell_type": "code",
   "execution_count": 41,
   "metadata": {
    "id": "uaGJHjVU_Zcv"
   },
   "outputs": [
    {
     "data": {
      "text/plain": [
       "genre\n",
       "pop            2431\n",
       "dance          1932\n",
       "rock           1879\n",
       "electronic     1736\n",
       "hiphop          960\n",
       "alternative     649\n",
       "classical       646\n",
       "rusrap          564\n",
       "ruspop          538\n",
       "world           515\n",
       "Name: genre, dtype: int64"
      ]
     },
     "execution_count": 41,
     "metadata": {},
     "output_type": "execute_result"
    }
   ],
   "source": [
    "shel_genres.head(10)"
   ]
  },
  {
   "attachments": {},
   "cell_type": "markdown",
   "metadata": {
    "id": "RY51YJYu_Zcv"
   },
   "source": [
    "**Kesimpulan**"
   ]
  },
  {
   "attachments": {},
   "cell_type": "markdown",
   "metadata": {
    "id": "nVhnJEm__Zcv"
   },
   "source": [
    "Hypothesis partially confirmed:\n",
    "* Pop music is the most popular genre in Springfield, as expected.\n",
    "* However, pop music turns out to be equally popular in both Springfield and Shelbyville, and rap music does not make it to the top 5 genres in either city."
   ]
  },
  {
   "attachments": {},
   "cell_type": "markdown",
   "metadata": {
    "id": "Byr0RfpPVz14"
   },
   "source": [
    "[Back to Contents](#back)"
   ]
  },
  {
   "attachments": {},
   "cell_type": "markdown",
   "metadata": {
    "id": "ykKQ0N65_Zcv"
   },
   "source": [
    "# Findings <a id='end'></a>"
   ]
  },
  {
   "attachments": {},
   "cell_type": "markdown",
   "metadata": {
    "id": "tjUwbHb3_Zcv"
   },
   "source": [
    "After analyzing the data, we can conclude:\n",
    "\n",
    "1. User activity in Springfield and Shelbyville varies depending on the day, even though the cities are different.\n",
    "The first hypothesis is fully accepted.\n",
    "\n",
    "2. Music preferences do not differ significantly throughout the week in Springfield and Shelbyville. We can observe minor differences in rankings on Mondays, but:\n",
    "Both in Springfield and Shelbyville, people predominantly listen to pop music.\n",
    "Therefore, this hypothesis cannot be accepted. We should also note that the results could differ if not for the missing values.\n",
    "\n",
    "3. It turns out that the music preferences of users from Springfield and Shelbyville are very similar.\n",
    "The third hypothesis is rejected. If there are any preference differences, they cannot be seen from this data.\n",
    "\n",
    "### Note\n",
    "In a real project, research would involve statistical hypothesis testing, which is more precise and quantitative. Also, we cannot always draw conclusions about an entire city based on data from a single source."
   ]
  },
  {
   "attachments": {},
   "cell_type": "markdown",
   "metadata": {
    "id": "Ju4AHDSgV1FE"
   },
   "source": [
    "[Back to Contents](#back)"
   ]
  }
 ],
 "metadata": {
  "ExecuteTimeLog": [
   {
    "duration": 356,
    "start_time": "2022-08-10T15:11:35.975Z"
   },
   {
    "duration": 505,
    "start_time": "2022-08-10T15:14:23.127Z"
   },
   {
    "duration": 149,
    "start_time": "2022-08-10T15:14:41.252Z"
   },
   {
    "duration": 262,
    "start_time": "2022-08-10T15:15:33.053Z"
   },
   {
    "duration": 246,
    "start_time": "2022-08-10T15:15:41.273Z"
   },
   {
    "duration": 6,
    "start_time": "2022-08-10T15:15:48.655Z"
   },
   {
    "duration": 4,
    "start_time": "2022-08-10T15:16:30.592Z"
   },
   {
    "duration": 5,
    "start_time": "2022-08-10T15:17:22.180Z"
   },
   {
    "duration": 26,
    "start_time": "2022-08-10T15:19:07.886Z"
   },
   {
    "duration": 3,
    "start_time": "2022-08-10T15:22:12.533Z"
   },
   {
    "duration": 3,
    "start_time": "2022-08-10T15:22:33.881Z"
   },
   {
    "duration": 9,
    "start_time": "2022-08-10T15:24:26.993Z"
   },
   {
    "duration": 3,
    "start_time": "2022-08-10T15:24:34.135Z"
   },
   {
    "duration": 5,
    "start_time": "2022-08-10T15:25:18.883Z"
   },
   {
    "duration": 21,
    "start_time": "2022-08-10T15:26:08.850Z"
   },
   {
    "duration": 19,
    "start_time": "2022-08-10T15:26:25.731Z"
   },
   {
    "duration": 20,
    "start_time": "2022-08-10T15:26:30.482Z"
   },
   {
    "duration": 16,
    "start_time": "2022-08-10T15:34:58.100Z"
   },
   {
    "duration": 6,
    "start_time": "2022-08-10T15:35:16.363Z"
   },
   {
    "duration": 12,
    "start_time": "2022-08-10T15:35:30.543Z"
   },
   {
    "duration": 20,
    "start_time": "2022-08-10T15:35:45.020Z"
   },
   {
    "duration": 51,
    "start_time": "2022-08-10T15:36:19.546Z"
   },
   {
    "duration": 57,
    "start_time": "2022-08-10T15:36:57.771Z"
   },
   {
    "duration": 48,
    "start_time": "2022-08-10T15:37:07.733Z"
   },
   {
    "duration": 1922,
    "start_time": "2022-08-10T15:38:08.205Z"
   },
   {
    "duration": 1925,
    "start_time": "2022-08-10T15:38:10.891Z"
   },
   {
    "duration": 4,
    "start_time": "2022-08-10T15:39:03.206Z"
   },
   {
    "duration": 6,
    "start_time": "2022-08-10T15:39:49.302Z"
   },
   {
    "duration": 8,
    "start_time": "2022-08-10T15:39:59.090Z"
   },
   {
    "duration": 8,
    "start_time": "2022-08-10T15:40:03.198Z"
   },
   {
    "duration": 5,
    "start_time": "2022-08-10T15:40:10.773Z"
   },
   {
    "duration": 44,
    "start_time": "2022-08-10T15:46:49.000Z"
   },
   {
    "duration": 6,
    "start_time": "2022-08-10T15:47:37.953Z"
   },
   {
    "duration": 29,
    "start_time": "2022-08-10T15:48:26.130Z"
   },
   {
    "duration": 29,
    "start_time": "2022-08-10T15:49:03.712Z"
   },
   {
    "duration": 28,
    "start_time": "2022-08-10T15:50:00.036Z"
   },
   {
    "duration": 37,
    "start_time": "2022-08-10T15:51:16.964Z"
   },
   {
    "duration": 9,
    "start_time": "2022-08-10T15:54:30.227Z"
   },
   {
    "duration": 18,
    "start_time": "2022-08-10T15:55:19.581Z"
   },
   {
    "duration": 38,
    "start_time": "2022-08-10T15:55:59.039Z"
   },
   {
    "duration": 21,
    "start_time": "2022-08-10T15:56:21.674Z"
   },
   {
    "duration": 14,
    "start_time": "2022-08-10T15:56:53.033Z"
   },
   {
    "duration": 12,
    "start_time": "2022-08-10T15:57:04.013Z"
   },
   {
    "duration": 10,
    "start_time": "2022-08-10T15:58:36.994Z"
   },
   {
    "duration": 8,
    "start_time": "2022-08-10T15:59:00.869Z"
   },
   {
    "duration": 3,
    "start_time": "2022-08-10T15:59:02.745Z"
   },
   {
    "duration": 10,
    "start_time": "2022-08-10T15:59:04.986Z"
   },
   {
    "duration": 12,
    "start_time": "2022-08-10T15:59:14.732Z"
   },
   {
    "duration": 39,
    "start_time": "2022-08-10T15:59:32.763Z"
   },
   {
    "duration": 3,
    "start_time": "2022-08-10T16:01:14.442Z"
   },
   {
    "duration": 9,
    "start_time": "2022-08-10T16:01:17.433Z"
   },
   {
    "duration": 34,
    "start_time": "2022-08-10T16:01:21.830Z"
   },
   {
    "duration": 31,
    "start_time": "2022-08-10T16:02:43.846Z"
   },
   {
    "duration": 3,
    "start_time": "2022-08-10T16:05:03.405Z"
   },
   {
    "duration": 25,
    "start_time": "2022-08-10T16:05:16.019Z"
   },
   {
    "duration": 26,
    "start_time": "2022-08-10T16:06:09.982Z"
   },
   {
    "duration": 11,
    "start_time": "2022-08-10T16:08:29.062Z"
   },
   {
    "duration": 10,
    "start_time": "2022-08-10T16:10:02.826Z"
   },
   {
    "duration": 3,
    "start_time": "2022-08-10T16:12:43.281Z"
   },
   {
    "duration": 5,
    "start_time": "2022-08-10T16:12:45.902Z"
   },
   {
    "duration": 3,
    "start_time": "2022-08-10T16:12:55.987Z"
   },
   {
    "duration": 7,
    "start_time": "2022-08-10T16:12:57.987Z"
   },
   {
    "duration": 33,
    "start_time": "2022-08-10T16:13:00.464Z"
   },
   {
    "duration": 3,
    "start_time": "2022-08-10T16:21:19.877Z"
   },
   {
    "duration": 112,
    "start_time": "2022-08-10T16:21:35.968Z"
   },
   {
    "duration": 3,
    "start_time": "2022-08-10T16:21:51.511Z"
   },
   {
    "duration": 15,
    "start_time": "2022-08-10T16:22:17.890Z"
   },
   {
    "duration": 14,
    "start_time": "2022-08-10T16:22:36.720Z"
   },
   {
    "duration": 8,
    "start_time": "2022-08-10T16:23:01.635Z"
   },
   {
    "duration": 10,
    "start_time": "2022-08-10T16:23:09.116Z"
   },
   {
    "duration": 9,
    "start_time": "2022-08-10T16:23:16.839Z"
   },
   {
    "duration": 7,
    "start_time": "2022-08-10T16:24:30.766Z"
   },
   {
    "duration": 13,
    "start_time": "2022-08-10T16:24:47.928Z"
   },
   {
    "duration": 13,
    "start_time": "2022-08-10T16:24:53.406Z"
   },
   {
    "duration": 7,
    "start_time": "2022-08-10T16:27:25.266Z"
   },
   {
    "duration": 8,
    "start_time": "2022-08-10T16:27:30.854Z"
   },
   {
    "duration": 4,
    "start_time": "2022-08-10T16:27:41.979Z"
   },
   {
    "duration": 4,
    "start_time": "2022-08-10T16:27:44.619Z"
   },
   {
    "duration": 13,
    "start_time": "2022-08-10T16:27:48.225Z"
   },
   {
    "duration": 12,
    "start_time": "2022-08-10T16:27:51.604Z"
   },
   {
    "duration": 12,
    "start_time": "2022-08-10T16:27:58.183Z"
   },
   {
    "duration": 19,
    "start_time": "2022-08-10T16:28:11.753Z"
   },
   {
    "duration": 13,
    "start_time": "2022-08-10T16:28:22.173Z"
   },
   {
    "duration": 15,
    "start_time": "2022-08-10T16:28:37.433Z"
   },
   {
    "duration": 12,
    "start_time": "2022-08-10T16:28:45.766Z"
   },
   {
    "duration": 15,
    "start_time": "2022-08-10T16:28:55.010Z"
   },
   {
    "duration": 12,
    "start_time": "2022-08-10T16:29:04.540Z"
   },
   {
    "duration": 3,
    "start_time": "2022-08-10T16:34:11.773Z"
   },
   {
    "duration": 6,
    "start_time": "2022-08-10T16:38:53.161Z"
   },
   {
    "duration": 9,
    "start_time": "2022-08-10T16:48:14.923Z"
   },
   {
    "duration": 9,
    "start_time": "2022-08-10T16:48:23.210Z"
   },
   {
    "duration": 13,
    "start_time": "2022-08-10T16:48:37.518Z"
   },
   {
    "duration": 3,
    "start_time": "2022-08-10T16:50:28.219Z"
   },
   {
    "duration": 419,
    "start_time": "2022-08-11T15:00:03.543Z"
   },
   {
    "duration": 322,
    "start_time": "2022-08-11T15:00:03.963Z"
   },
   {
    "duration": 6,
    "start_time": "2022-08-11T15:00:04.287Z"
   },
   {
    "duration": 51,
    "start_time": "2022-08-11T15:00:04.295Z"
   },
   {
    "duration": 8,
    "start_time": "2022-08-11T15:00:04.348Z"
   },
   {
    "duration": 37,
    "start_time": "2022-08-11T15:00:04.357Z"
   },
   {
    "duration": 32,
    "start_time": "2022-08-11T15:00:04.396Z"
   },
   {
    "duration": 30,
    "start_time": "2022-08-11T15:00:04.429Z"
   },
   {
    "duration": 14,
    "start_time": "2022-08-11T15:00:04.460Z"
   },
   {
    "duration": 30,
    "start_time": "2022-08-11T15:00:04.476Z"
   },
   {
    "duration": 76,
    "start_time": "2022-08-11T15:00:04.508Z"
   },
   {
    "duration": 64,
    "start_time": "2022-08-11T15:00:04.586Z"
   },
   {
    "duration": 57,
    "start_time": "2022-08-11T15:00:04.657Z"
   },
   {
    "duration": 50,
    "start_time": "2022-08-11T15:00:04.716Z"
   },
   {
    "duration": 3,
    "start_time": "2022-08-11T15:00:04.768Z"
   },
   {
    "duration": 16,
    "start_time": "2022-08-11T15:00:04.773Z"
   },
   {
    "duration": 42,
    "start_time": "2022-08-11T15:00:04.791Z"
   },
   {
    "duration": 12,
    "start_time": "2022-08-11T15:00:04.835Z"
   },
   {
    "duration": 23,
    "start_time": "2022-08-11T15:00:04.849Z"
   },
   {
    "duration": 24,
    "start_time": "2022-08-11T15:00:04.874Z"
   },
   {
    "duration": 27,
    "start_time": "2022-08-11T15:00:04.899Z"
   },
   {
    "duration": 22,
    "start_time": "2022-08-11T15:00:04.927Z"
   },
   {
    "duration": 21,
    "start_time": "2022-08-11T15:00:04.950Z"
   },
   {
    "duration": 31,
    "start_time": "2022-08-11T15:00:04.973Z"
   },
   {
    "duration": 41,
    "start_time": "2022-08-11T15:00:05.005Z"
   },
   {
    "duration": 16,
    "start_time": "2022-08-11T15:00:05.048Z"
   },
   {
    "duration": 21,
    "start_time": "2022-08-11T15:00:05.066Z"
   },
   {
    "duration": 13,
    "start_time": "2022-08-11T15:00:05.090Z"
   },
   {
    "duration": 10,
    "start_time": "2022-08-11T15:00:05.105Z"
   },
   {
    "duration": 104,
    "start_time": "2022-08-11T15:00:05.116Z"
   },
   {
    "duration": 0,
    "start_time": "2022-08-11T15:00:05.222Z"
   },
   {
    "duration": 0,
    "start_time": "2022-08-11T15:00:05.224Z"
   },
   {
    "duration": 0,
    "start_time": "2022-08-11T15:00:05.226Z"
   },
   {
    "duration": 0,
    "start_time": "2022-08-11T15:00:05.227Z"
   },
   {
    "duration": 0,
    "start_time": "2022-08-11T15:00:05.229Z"
   },
   {
    "duration": 0,
    "start_time": "2022-08-11T15:00:05.231Z"
   },
   {
    "duration": 0,
    "start_time": "2022-08-11T15:00:05.232Z"
   },
   {
    "duration": 0,
    "start_time": "2022-08-11T15:00:05.233Z"
   },
   {
    "duration": 392,
    "start_time": "2022-08-11T15:57:40.974Z"
   },
   {
    "duration": 265,
    "start_time": "2022-08-11T15:57:41.368Z"
   },
   {
    "duration": 6,
    "start_time": "2022-08-11T15:57:41.634Z"
   },
   {
    "duration": 38,
    "start_time": "2022-08-11T15:57:41.642Z"
   },
   {
    "duration": 3,
    "start_time": "2022-08-11T15:57:41.682Z"
   },
   {
    "duration": 16,
    "start_time": "2022-08-11T15:57:41.686Z"
   },
   {
    "duration": 7,
    "start_time": "2022-08-11T15:57:41.703Z"
   },
   {
    "duration": 28,
    "start_time": "2022-08-11T15:57:41.711Z"
   },
   {
    "duration": 23,
    "start_time": "2022-08-11T15:57:41.741Z"
   },
   {
    "duration": 20,
    "start_time": "2022-08-11T15:57:41.767Z"
   },
   {
    "duration": 69,
    "start_time": "2022-08-11T15:57:41.789Z"
   },
   {
    "duration": 60,
    "start_time": "2022-08-11T15:57:41.860Z"
   },
   {
    "duration": 67,
    "start_time": "2022-08-11T15:57:41.922Z"
   },
   {
    "duration": 34,
    "start_time": "2022-08-11T15:57:41.990Z"
   },
   {
    "duration": 4,
    "start_time": "2022-08-11T15:57:42.025Z"
   },
   {
    "duration": 26,
    "start_time": "2022-08-11T15:57:42.031Z"
   },
   {
    "duration": 33,
    "start_time": "2022-08-11T15:57:42.059Z"
   },
   {
    "duration": 11,
    "start_time": "2022-08-11T15:57:42.093Z"
   },
   {
    "duration": 10,
    "start_time": "2022-08-11T15:57:42.106Z"
   },
   {
    "duration": 4,
    "start_time": "2022-08-11T15:57:42.117Z"
   },
   {
    "duration": 41,
    "start_time": "2022-08-11T15:57:42.122Z"
   },
   {
    "duration": 11,
    "start_time": "2022-08-11T15:57:42.165Z"
   },
   {
    "duration": 13,
    "start_time": "2022-08-11T15:57:42.178Z"
   },
   {
    "duration": 11,
    "start_time": "2022-08-11T15:57:42.193Z"
   },
   {
    "duration": 13,
    "start_time": "2022-08-11T15:57:42.206Z"
   },
   {
    "duration": 37,
    "start_time": "2022-08-11T15:57:42.221Z"
   },
   {
    "duration": 12,
    "start_time": "2022-08-11T15:57:42.260Z"
   },
   {
    "duration": 5,
    "start_time": "2022-08-11T15:57:42.275Z"
   },
   {
    "duration": 7,
    "start_time": "2022-08-11T15:57:42.282Z"
   },
   {
    "duration": 117,
    "start_time": "2022-08-11T15:57:42.290Z"
   },
   {
    "duration": 0,
    "start_time": "2022-08-11T15:57:42.408Z"
   },
   {
    "duration": 0,
    "start_time": "2022-08-11T15:57:42.410Z"
   },
   {
    "duration": 0,
    "start_time": "2022-08-11T15:57:42.410Z"
   },
   {
    "duration": 0,
    "start_time": "2022-08-11T15:57:42.411Z"
   },
   {
    "duration": 0,
    "start_time": "2022-08-11T15:57:42.412Z"
   },
   {
    "duration": 0,
    "start_time": "2022-08-11T15:57:42.414Z"
   },
   {
    "duration": 0,
    "start_time": "2022-08-11T15:57:42.415Z"
   },
   {
    "duration": 0,
    "start_time": "2022-08-11T15:57:42.415Z"
   },
   {
    "duration": 42,
    "start_time": "2022-08-11T17:26:14.441Z"
   },
   {
    "duration": 406,
    "start_time": "2022-08-11T17:26:23.336Z"
   },
   {
    "duration": 562,
    "start_time": "2022-08-11T17:26:26.700Z"
   },
   {
    "duration": 10,
    "start_time": "2022-08-11T17:26:30.441Z"
   },
   {
    "duration": 23,
    "start_time": "2022-08-11T17:30:23.029Z"
   },
   {
    "duration": 4,
    "start_time": "2022-08-11T17:32:24.233Z"
   },
   {
    "duration": 10,
    "start_time": "2022-08-11T17:32:49.713Z"
   },
   {
    "duration": 4,
    "start_time": "2022-08-11T17:32:57.400Z"
   },
   {
    "duration": 20,
    "start_time": "2022-08-11T17:37:46.109Z"
   },
   {
    "duration": 80,
    "start_time": "2022-08-11T17:38:10.833Z"
   },
   {
    "duration": 97,
    "start_time": "2022-08-11T17:38:12.802Z"
   },
   {
    "duration": 22,
    "start_time": "2022-08-11T17:38:19.445Z"
   },
   {
    "duration": 58,
    "start_time": "2022-08-11T17:39:23.179Z"
   },
   {
    "duration": 93,
    "start_time": "2022-08-11T18:00:57.411Z"
   },
   {
    "duration": 51,
    "start_time": "2022-08-11T18:01:18.194Z"
   },
   {
    "duration": 61,
    "start_time": "2022-08-11T18:01:30.366Z"
   },
   {
    "duration": 53,
    "start_time": "2022-08-11T18:01:40.936Z"
   },
   {
    "duration": 32,
    "start_time": "2022-08-11T18:02:18.376Z"
   },
   {
    "duration": 33,
    "start_time": "2022-08-11T18:02:58.685Z"
   },
   {
    "duration": 12,
    "start_time": "2022-08-11T18:03:15.538Z"
   },
   {
    "duration": 12,
    "start_time": "2022-08-11T18:03:29.558Z"
   },
   {
    "duration": 3,
    "start_time": "2022-08-11T18:04:08.854Z"
   },
   {
    "duration": 13,
    "start_time": "2022-08-11T18:04:11.896Z"
   },
   {
    "duration": 3,
    "start_time": "2022-08-11T18:04:17.184Z"
   },
   {
    "duration": 35,
    "start_time": "2022-08-11T18:04:20.021Z"
   },
   {
    "duration": 3,
    "start_time": "2022-08-11T18:04:50.744Z"
   },
   {
    "duration": 20,
    "start_time": "2022-08-11T18:04:53.707Z"
   },
   {
    "duration": 3,
    "start_time": "2022-08-11T18:05:37.158Z"
   },
   {
    "duration": 18,
    "start_time": "2022-08-11T18:05:39.705Z"
   },
   {
    "duration": 3,
    "start_time": "2022-08-11T18:09:40.848Z"
   },
   {
    "duration": 72,
    "start_time": "2022-08-11T18:09:44.020Z"
   },
   {
    "duration": 4,
    "start_time": "2022-08-11T18:11:04.617Z"
   },
   {
    "duration": 54,
    "start_time": "2022-08-11T18:11:08.807Z"
   },
   {
    "duration": 3,
    "start_time": "2022-08-11T18:15:43.697Z"
   },
   {
    "duration": 19,
    "start_time": "2022-08-11T18:15:46.939Z"
   },
   {
    "duration": 3,
    "start_time": "2022-08-11T18:16:02.678Z"
   },
   {
    "duration": 17,
    "start_time": "2022-08-11T18:16:05.744Z"
   },
   {
    "duration": 11,
    "start_time": "2022-08-11T18:16:15.310Z"
   },
   {
    "duration": 3,
    "start_time": "2022-08-11T18:16:46.519Z"
   },
   {
    "duration": 20,
    "start_time": "2022-08-11T18:16:46.524Z"
   },
   {
    "duration": 15,
    "start_time": "2022-08-11T18:17:46.210Z"
   },
   {
    "duration": 15,
    "start_time": "2022-08-11T18:17:49.337Z"
   },
   {
    "duration": 15,
    "start_time": "2022-08-11T18:17:53.237Z"
   },
   {
    "duration": 4,
    "start_time": "2022-08-11T18:20:21.924Z"
   },
   {
    "duration": 16,
    "start_time": "2022-08-11T18:20:25.166Z"
   },
   {
    "duration": 15,
    "start_time": "2022-08-11T18:20:28.096Z"
   },
   {
    "duration": 3,
    "start_time": "2022-08-11T18:22:42.458Z"
   },
   {
    "duration": 33,
    "start_time": "2022-08-11T18:22:45.349Z"
   },
   {
    "duration": 33,
    "start_time": "2022-08-11T18:22:53.567Z"
   },
   {
    "duration": 4,
    "start_time": "2022-08-11T18:23:02.061Z"
   },
   {
    "duration": 147,
    "start_time": "2022-08-11T18:23:16.502Z"
   },
   {
    "duration": 102,
    "start_time": "2022-08-11T18:23:32.291Z"
   },
   {
    "duration": 103,
    "start_time": "2022-08-11T18:23:54.352Z"
   },
   {
    "duration": 3,
    "start_time": "2022-08-11T18:23:58.625Z"
   },
   {
    "duration": 3,
    "start_time": "2022-08-11T18:25:04.543Z"
   },
   {
    "duration": 27,
    "start_time": "2022-08-11T18:25:07.360Z"
   },
   {
    "duration": 349,
    "start_time": "2022-08-12T14:44:24.073Z"
   },
   {
    "duration": 364,
    "start_time": "2022-08-12T14:44:32.355Z"
   },
   {
    "duration": 10,
    "start_time": "2022-08-12T14:44:35.621Z"
   },
   {
    "duration": 42,
    "start_time": "2022-08-12T14:44:40.182Z"
   },
   {
    "duration": 4,
    "start_time": "2022-08-12T14:44:46.832Z"
   },
   {
    "duration": 10,
    "start_time": "2022-08-12T14:44:50.491Z"
   },
   {
    "duration": 12,
    "start_time": "2022-08-12T14:44:54.095Z"
   },
   {
    "duration": 4,
    "start_time": "2022-08-12T14:44:57.828Z"
   },
   {
    "duration": 5,
    "start_time": "2022-08-12T14:55:33.713Z"
   },
   {
    "duration": 28,
    "start_time": "2022-08-12T14:55:37.217Z"
   },
   {
    "duration": 98,
    "start_time": "2022-08-12T14:55:40.778Z"
   },
   {
    "duration": 24,
    "start_time": "2022-08-12T14:55:44.820Z"
   },
   {
    "duration": 58,
    "start_time": "2022-08-12T14:55:50.126Z"
   },
   {
    "duration": 80,
    "start_time": "2022-08-12T14:55:53.252Z"
   },
   {
    "duration": 56,
    "start_time": "2022-08-12T14:55:56.825Z"
   },
   {
    "duration": 38,
    "start_time": "2022-08-12T14:56:01.413Z"
   },
   {
    "duration": 7,
    "start_time": "2022-08-12T14:56:07.131Z"
   },
   {
    "duration": 9,
    "start_time": "2022-08-12T14:56:10.388Z"
   },
   {
    "duration": 14,
    "start_time": "2022-08-12T14:56:47.679Z"
   },
   {
    "duration": 69,
    "start_time": "2022-08-12T14:56:50.252Z"
   },
   {
    "duration": 20,
    "start_time": "2022-08-12T14:56:58.154Z"
   },
   {
    "duration": 20,
    "start_time": "2022-08-12T14:57:02.163Z"
   },
   {
    "duration": 383,
    "start_time": "2022-08-14T11:52:11.902Z"
   },
   {
    "duration": 619,
    "start_time": "2022-08-14T11:52:14.596Z"
   },
   {
    "duration": 10,
    "start_time": "2022-08-14T11:52:18.569Z"
   },
   {
    "duration": 28,
    "start_time": "2022-08-14T11:52:21.833Z"
   },
   {
    "duration": 4,
    "start_time": "2022-08-14T11:52:26.615Z"
   },
   {
    "duration": 11,
    "start_time": "2022-08-14T11:52:29.172Z"
   },
   {
    "duration": 4,
    "start_time": "2022-08-14T11:52:32.183Z"
   },
   {
    "duration": 21,
    "start_time": "2022-08-14T11:52:35.078Z"
   },
   {
    "duration": 95,
    "start_time": "2022-08-14T11:52:39.517Z"
   },
   {
    "duration": 23,
    "start_time": "2022-08-14T11:52:52.037Z"
   },
   {
    "duration": 73,
    "start_time": "2022-08-14T11:52:55.764Z"
   },
   {
    "duration": 97,
    "start_time": "2022-08-14T11:53:00.239Z"
   },
   {
    "duration": 64,
    "start_time": "2022-08-14T11:53:05.782Z"
   },
   {
    "duration": 38,
    "start_time": "2022-08-14T11:53:09.834Z"
   },
   {
    "duration": 3,
    "start_time": "2022-08-14T11:53:15.648Z"
   },
   {
    "duration": 11,
    "start_time": "2022-08-14T11:53:18.865Z"
   },
   {
    "duration": 39,
    "start_time": "2022-08-14T11:53:21.258Z"
   },
   {
    "duration": 14,
    "start_time": "2022-08-14T11:53:27.618Z"
   },
   {
    "duration": 13,
    "start_time": "2022-08-14T11:53:32.916Z"
   },
   {
    "duration": 1185,
    "start_time": "2022-08-14T11:55:27.044Z"
   },
   {
    "duration": 965,
    "start_time": "2022-08-14T11:55:32.380Z"
   },
   {
    "duration": 8,
    "start_time": "2022-08-14T11:58:01.215Z"
   },
   {
    "duration": 47,
    "start_time": "2022-08-14T11:58:06.530Z"
   },
   {
    "duration": 12,
    "start_time": "2022-08-14T11:58:40.351Z"
   },
   {
    "duration": 10,
    "start_time": "2022-08-14T11:59:29.615Z"
   },
   {
    "duration": 880,
    "start_time": "2022-08-14T12:00:45.823Z"
   },
   {
    "duration": 142,
    "start_time": "2022-08-14T12:00:53.521Z"
   },
   {
    "duration": 6,
    "start_time": "2022-08-14T12:01:08.256Z"
   },
   {
    "duration": 13,
    "start_time": "2022-08-14T12:01:23.549Z"
   },
   {
    "duration": 8,
    "start_time": "2022-08-14T12:02:49.971Z"
   },
   {
    "duration": 8,
    "start_time": "2022-08-14T12:03:04.585Z"
   },
   {
    "duration": 5,
    "start_time": "2022-08-14T12:03:11.017Z"
   },
   {
    "duration": 4,
    "start_time": "2022-08-14T12:04:20.341Z"
   },
   {
    "duration": 4,
    "start_time": "2022-08-14T12:05:20.673Z"
   },
   {
    "duration": 3,
    "start_time": "2022-08-14T12:05:23.683Z"
   },
   {
    "duration": 39,
    "start_time": "2022-08-14T12:05:29.356Z"
   },
   {
    "duration": 4,
    "start_time": "2022-08-14T12:05:59.516Z"
   },
   {
    "duration": 32,
    "start_time": "2022-08-14T12:06:02.184Z"
   },
   {
    "duration": 4,
    "start_time": "2022-08-14T12:07:59.722Z"
   },
   {
    "duration": 37,
    "start_time": "2022-08-14T12:08:01.986Z"
   },
   {
    "duration": 4,
    "start_time": "2022-08-14T12:08:42.180Z"
   },
   {
    "duration": 3,
    "start_time": "2022-08-14T12:08:46.130Z"
   },
   {
    "duration": 20,
    "start_time": "2022-08-14T12:08:48.084Z"
   },
   {
    "duration": 3,
    "start_time": "2022-08-14T12:10:24.839Z"
   },
   {
    "duration": 17,
    "start_time": "2022-08-14T12:10:26.956Z"
   },
   {
    "duration": 3,
    "start_time": "2022-08-14T12:10:40.429Z"
   },
   {
    "duration": 16,
    "start_time": "2022-08-14T12:10:43.075Z"
   },
   {
    "duration": 4,
    "start_time": "2022-08-14T12:11:13.896Z"
   },
   {
    "duration": 22,
    "start_time": "2022-08-14T12:11:16.775Z"
   },
   {
    "duration": 4,
    "start_time": "2022-08-14T12:11:37.477Z"
   },
   {
    "duration": 42,
    "start_time": "2022-08-14T12:11:39.883Z"
   },
   {
    "duration": 5,
    "start_time": "2022-08-14T12:12:02.341Z"
   },
   {
    "duration": 3,
    "start_time": "2022-08-14T12:12:04.365Z"
   },
   {
    "duration": 47,
    "start_time": "2022-08-14T12:12:06.570Z"
   },
   {
    "duration": 4,
    "start_time": "2022-08-14T12:12:16.913Z"
   },
   {
    "duration": 42,
    "start_time": "2022-08-14T12:12:19.875Z"
   },
   {
    "duration": 3,
    "start_time": "2022-08-14T12:12:31.198Z"
   },
   {
    "duration": 29,
    "start_time": "2022-08-14T12:12:33.445Z"
   },
   {
    "duration": 4,
    "start_time": "2022-08-14T12:12:45.291Z"
   },
   {
    "duration": 20,
    "start_time": "2022-08-14T12:12:47.550Z"
   },
   {
    "duration": 3,
    "start_time": "2022-08-14T12:13:44.109Z"
   },
   {
    "duration": 289,
    "start_time": "2022-08-14T12:13:47.299Z"
   },
   {
    "duration": 290,
    "start_time": "2022-08-14T12:13:50.685Z"
   },
   {
    "duration": 12,
    "start_time": "2022-08-14T12:13:53.531Z"
   },
   {
    "duration": 26,
    "start_time": "2022-08-14T12:13:56.368Z"
   },
   {
    "duration": 4,
    "start_time": "2022-08-14T12:14:01.752Z"
   },
   {
    "duration": 7,
    "start_time": "2022-08-14T12:14:04.642Z"
   },
   {
    "duration": 4,
    "start_time": "2022-08-14T12:14:08.031Z"
   },
   {
    "duration": 25,
    "start_time": "2022-08-14T12:14:11.075Z"
   },
   {
    "duration": 100,
    "start_time": "2022-08-14T12:14:13.729Z"
   },
   {
    "duration": 36,
    "start_time": "2022-08-14T12:14:16.529Z"
   },
   {
    "duration": 68,
    "start_time": "2022-08-14T12:14:18.991Z"
   },
   {
    "duration": 97,
    "start_time": "2022-08-14T12:14:21.604Z"
   },
   {
    "duration": 59,
    "start_time": "2022-08-14T12:14:25.749Z"
   },
   {
    "duration": 38,
    "start_time": "2022-08-14T12:14:28.965Z"
   },
   {
    "duration": 3,
    "start_time": "2022-08-14T12:14:35.570Z"
   },
   {
    "duration": 10,
    "start_time": "2022-08-14T12:14:38.316Z"
   },
   {
    "duration": 38,
    "start_time": "2022-08-14T12:14:40.791Z"
   },
   {
    "duration": 12,
    "start_time": "2022-08-14T12:14:45.568Z"
   },
   {
    "duration": 17,
    "start_time": "2022-08-14T12:14:47.806Z"
   },
   {
    "duration": 3,
    "start_time": "2022-08-14T12:14:50.892Z"
   },
   {
    "duration": 4,
    "start_time": "2022-08-14T12:14:56.543Z"
   },
   {
    "duration": 18,
    "start_time": "2022-08-14T12:14:59.769Z"
   },
   {
    "duration": 19,
    "start_time": "2022-08-14T12:15:02.488Z"
   },
   {
    "duration": 20,
    "start_time": "2022-08-14T12:15:06.167Z"
   },
   {
    "duration": 19,
    "start_time": "2022-08-14T12:15:08.583Z"
   },
   {
    "duration": 19,
    "start_time": "2022-08-14T12:15:11.770Z"
   },
   {
    "duration": 16,
    "start_time": "2022-08-14T12:15:14.088Z"
   },
   {
    "duration": 6,
    "start_time": "2022-08-14T12:15:20.108Z"
   },
   {
    "duration": 544,
    "start_time": "2022-08-14T12:26:24.136Z"
   },
   {
    "duration": 474,
    "start_time": "2022-08-14T12:26:47.262Z"
   },
   {
    "duration": 21,
    "start_time": "2022-08-14T12:27:33.863Z"
   },
   {
    "duration": 26,
    "start_time": "2022-08-14T12:28:38.092Z"
   },
   {
    "duration": 4,
    "start_time": "2022-08-14T12:29:08.640Z"
   },
   {
    "duration": 112,
    "start_time": "2022-08-14T12:29:22.293Z"
   },
   {
    "duration": 107,
    "start_time": "2022-08-14T12:29:34.080Z"
   },
   {
    "duration": 5,
    "start_time": "2022-08-14T12:29:44.907Z"
   },
   {
    "duration": 4,
    "start_time": "2022-08-14T12:30:11.363Z"
   },
   {
    "duration": 23,
    "start_time": "2022-08-14T12:30:34.266Z"
   },
   {
    "duration": 477,
    "start_time": "2022-08-14T12:30:43.996Z"
   },
   {
    "duration": 20,
    "start_time": "2022-08-14T12:34:15.928Z"
   },
   {
    "duration": 24,
    "start_time": "2022-08-14T12:34:32.952Z"
   },
   {
    "duration": 21,
    "start_time": "2022-08-14T12:34:42.276Z"
   },
   {
    "duration": 14,
    "start_time": "2022-08-14T12:34:55.372Z"
   },
   {
    "duration": 16,
    "start_time": "2022-08-14T12:35:10.183Z"
   },
   {
    "duration": 24,
    "start_time": "2022-08-14T12:36:02.455Z"
   },
   {
    "duration": 24,
    "start_time": "2022-08-14T12:36:09.711Z"
   },
   {
    "duration": 17,
    "start_time": "2022-08-14T12:36:33.072Z"
   },
   {
    "duration": 38,
    "start_time": "2022-08-14T12:37:01.561Z"
   },
   {
    "duration": 8,
    "start_time": "2022-08-14T12:37:29.227Z"
   },
   {
    "duration": 28,
    "start_time": "2022-08-14T12:39:39.609Z"
   },
   {
    "duration": 16,
    "start_time": "2022-08-14T12:39:48.591Z"
   },
   {
    "duration": 31,
    "start_time": "2022-08-14T12:40:11.774Z"
   },
   {
    "duration": 23,
    "start_time": "2022-08-14T12:40:24.792Z"
   },
   {
    "duration": 22,
    "start_time": "2022-08-14T12:40:47.431Z"
   },
   {
    "duration": 109,
    "start_time": "2022-08-14T12:44:58.831Z"
   },
   {
    "duration": 8,
    "start_time": "2022-08-14T12:45:15.738Z"
   },
   {
    "duration": 9,
    "start_time": "2022-08-14T12:45:30.253Z"
   },
   {
    "duration": 13,
    "start_time": "2022-08-14T12:45:35.413Z"
   },
   {
    "duration": 22,
    "start_time": "2022-08-14T12:46:10.077Z"
   },
   {
    "duration": 21,
    "start_time": "2022-08-14T12:46:45.730Z"
   },
   {
    "duration": 16,
    "start_time": "2022-08-14T12:48:04.409Z"
   },
   {
    "duration": 27,
    "start_time": "2022-08-14T12:50:07.869Z"
   },
   {
    "duration": 27,
    "start_time": "2022-08-14T12:50:29.846Z"
   },
   {
    "duration": 27,
    "start_time": "2022-08-14T12:51:22.057Z"
   },
   {
    "duration": 4,
    "start_time": "2022-08-14T13:02:23.758Z"
   },
   {
    "duration": 19,
    "start_time": "2022-08-14T13:03:10.102Z"
   },
   {
    "duration": 17,
    "start_time": "2022-08-14T13:03:37.929Z"
   },
   {
    "duration": 20,
    "start_time": "2022-08-14T13:03:49.134Z"
   },
   {
    "duration": 25,
    "start_time": "2022-08-14T13:03:57.292Z"
   },
   {
    "duration": 25,
    "start_time": "2022-08-14T13:04:07.666Z"
   },
   {
    "duration": 17,
    "start_time": "2022-08-14T13:04:42.273Z"
   },
   {
    "duration": 9,
    "start_time": "2022-08-14T13:05:42.964Z"
   },
   {
    "duration": 12,
    "start_time": "2022-08-14T13:10:49.944Z"
   },
   {
    "duration": 21,
    "start_time": "2022-08-14T13:12:29.407Z"
   },
   {
    "duration": 23,
    "start_time": "2022-08-14T13:12:44.098Z"
   },
   {
    "duration": 19,
    "start_time": "2022-08-14T13:12:49.798Z"
   },
   {
    "duration": 24,
    "start_time": "2022-08-14T13:15:27.442Z"
   },
   {
    "duration": 28,
    "start_time": "2022-08-14T13:15:31.691Z"
   },
   {
    "duration": 20,
    "start_time": "2022-08-14T13:15:41.404Z"
   },
   {
    "duration": 1905,
    "start_time": "2022-08-14T13:16:19.592Z"
   },
   {
    "duration": 1987,
    "start_time": "2022-08-14T13:16:39.076Z"
   },
   {
    "duration": 143,
    "start_time": "2022-08-14T13:18:12.550Z"
   },
   {
    "duration": 144,
    "start_time": "2022-08-14T13:18:31.858Z"
   },
   {
    "duration": 2049,
    "start_time": "2022-08-14T13:19:10.598Z"
   },
   {
    "duration": 2086,
    "start_time": "2022-08-14T13:19:17.444Z"
   },
   {
    "duration": 2647,
    "start_time": "2022-08-14T13:19:36.884Z"
   },
   {
    "duration": 20,
    "start_time": "2022-08-14T13:20:43.931Z"
   },
   {
    "duration": 18,
    "start_time": "2022-08-14T13:21:11.542Z"
   },
   {
    "duration": 41,
    "start_time": "2022-08-14T13:21:26.464Z"
   },
   {
    "duration": 30,
    "start_time": "2022-08-14T13:21:36.801Z"
   },
   {
    "duration": 24,
    "start_time": "2022-08-14T13:21:46.585Z"
   },
   {
    "duration": 39,
    "start_time": "2022-08-14T13:21:54.763Z"
   },
   {
    "duration": 17,
    "start_time": "2022-08-14T13:22:04.598Z"
   },
   {
    "duration": 9,
    "start_time": "2022-08-14T13:22:45.829Z"
   },
   {
    "duration": 9,
    "start_time": "2022-08-14T13:24:17.033Z"
   },
   {
    "duration": 7,
    "start_time": "2022-08-14T13:24:48.631Z"
   },
   {
    "duration": 5,
    "start_time": "2022-08-14T13:25:00.706Z"
   },
   {
    "duration": 132,
    "start_time": "2022-08-14T13:26:25.868Z"
   },
   {
    "duration": 25,
    "start_time": "2022-08-14T13:26:39.394Z"
   },
   {
    "duration": 24,
    "start_time": "2022-08-14T13:27:04.450Z"
   },
   {
    "duration": 7,
    "start_time": "2022-08-14T13:27:35.163Z"
   },
   {
    "duration": 225,
    "start_time": "2022-08-14T13:27:54.959Z"
   },
   {
    "duration": 191,
    "start_time": "2022-08-14T13:28:04.023Z"
   },
   {
    "duration": 111,
    "start_time": "2022-08-14T13:28:10.527Z"
   },
   {
    "duration": 23,
    "start_time": "2022-08-14T13:28:13.886Z"
   },
   {
    "duration": 165,
    "start_time": "2022-08-14T13:28:29.828Z"
   },
   {
    "duration": 191,
    "start_time": "2022-08-14T13:28:43.396Z"
   },
   {
    "duration": 5,
    "start_time": "2022-08-14T13:28:55.838Z"
   },
   {
    "duration": 17,
    "start_time": "2022-08-14T13:28:58.464Z"
   },
   {
    "duration": 4,
    "start_time": "2022-08-14T13:29:57.456Z"
   },
   {
    "duration": 29,
    "start_time": "2022-08-14T13:30:00.141Z"
   },
   {
    "duration": 5,
    "start_time": "2022-08-14T13:30:20.504Z"
   },
   {
    "duration": 17,
    "start_time": "2022-08-14T13:30:22.740Z"
   },
   {
    "duration": 5,
    "start_time": "2022-08-14T13:30:34.436Z"
   },
   {
    "duration": 24,
    "start_time": "2022-08-14T13:30:36.694Z"
   },
   {
    "duration": 102,
    "start_time": "2022-08-14T13:31:46.328Z"
   },
   {
    "duration": 20,
    "start_time": "2022-08-14T13:32:01.355Z"
   },
   {
    "duration": 31,
    "start_time": "2022-08-14T13:34:30.006Z"
   },
   {
    "duration": 24,
    "start_time": "2022-08-14T13:35:40.927Z"
   },
   {
    "duration": 24,
    "start_time": "2022-08-14T13:35:49.909Z"
   },
   {
    "duration": 20,
    "start_time": "2022-08-14T13:36:27.303Z"
   },
   {
    "duration": 22,
    "start_time": "2022-08-14T13:36:36.131Z"
   },
   {
    "duration": 27,
    "start_time": "2022-08-14T13:38:08.096Z"
   },
   {
    "duration": 6,
    "start_time": "2022-08-14T13:39:09.659Z"
   },
   {
    "duration": 22,
    "start_time": "2022-08-14T13:39:13.917Z"
   },
   {
    "duration": 19,
    "start_time": "2022-08-14T13:39:44.427Z"
   },
   {
    "duration": 21,
    "start_time": "2022-08-14T13:40:43.069Z"
   },
   {
    "duration": 14,
    "start_time": "2022-08-14T13:42:21.848Z"
   },
   {
    "duration": 15,
    "start_time": "2022-08-14T13:43:03.082Z"
   },
   {
    "duration": 18,
    "start_time": "2022-08-14T13:43:41.764Z"
   },
   {
    "duration": 15,
    "start_time": "2022-08-14T13:44:09.491Z"
   },
   {
    "duration": 5,
    "start_time": "2022-08-14T13:56:52.045Z"
   },
   {
    "duration": 17,
    "start_time": "2022-08-14T13:57:27.552Z"
   },
   {
    "duration": 4,
    "start_time": "2022-08-14T13:57:39.849Z"
   },
   {
    "duration": 24,
    "start_time": "2022-08-14T13:57:47.205Z"
   },
   {
    "duration": 15,
    "start_time": "2022-08-14T13:57:58.048Z"
   },
   {
    "duration": 4,
    "start_time": "2022-08-14T14:00:42.040Z"
   },
   {
    "duration": 4,
    "start_time": "2022-08-14T14:00:47.595Z"
   },
   {
    "duration": 14,
    "start_time": "2022-08-14T14:01:10.380Z"
   },
   {
    "duration": 4,
    "start_time": "2022-08-14T14:01:29.028Z"
   },
   {
    "duration": 33,
    "start_time": "2022-08-14T14:01:38.438Z"
   },
   {
    "duration": 26,
    "start_time": "2022-08-14T14:02:33.233Z"
   },
   {
    "duration": 29,
    "start_time": "2022-08-14T14:03:52.621Z"
   },
   {
    "duration": 27,
    "start_time": "2022-08-14T14:05:59.321Z"
   },
   {
    "duration": 28,
    "start_time": "2022-08-14T14:06:05.233Z"
   },
   {
    "duration": 30,
    "start_time": "2022-08-14T14:06:31.825Z"
   },
   {
    "duration": 28,
    "start_time": "2022-08-14T14:07:19.294Z"
   },
   {
    "duration": 47,
    "start_time": "2022-08-14T14:07:32.987Z"
   },
   {
    "duration": 31,
    "start_time": "2022-08-14T14:07:43.557Z"
   },
   {
    "duration": 14,
    "start_time": "2022-08-14T14:07:59.194Z"
   },
   {
    "duration": 15,
    "start_time": "2022-08-14T14:09:07.346Z"
   },
   {
    "duration": 15,
    "start_time": "2022-08-14T14:14:33.551Z"
   },
   {
    "duration": 14,
    "start_time": "2022-08-14T14:14:40.378Z"
   },
   {
    "duration": 11,
    "start_time": "2022-08-14T14:16:12.351Z"
   },
   {
    "duration": 12,
    "start_time": "2022-08-14T14:17:35.660Z"
   },
   {
    "duration": 5,
    "start_time": "2022-08-14T14:17:45.842Z"
   },
   {
    "duration": 27,
    "start_time": "2022-08-14T14:18:05.906Z"
   },
   {
    "duration": 12,
    "start_time": "2022-08-14T14:18:15.250Z"
   },
   {
    "duration": 100,
    "start_time": "2022-08-14T14:18:27.718Z"
   },
   {
    "duration": 11,
    "start_time": "2022-08-14T14:18:33.767Z"
   },
   {
    "duration": 8,
    "start_time": "2022-08-14T14:19:07.139Z"
   },
   {
    "duration": 5,
    "start_time": "2022-08-14T14:19:20.267Z"
   },
   {
    "duration": 421,
    "start_time": "2022-08-15T12:02:04.023Z"
   },
   {
    "duration": 315,
    "start_time": "2022-08-15T12:02:04.446Z"
   },
   {
    "duration": 9,
    "start_time": "2022-08-15T12:02:04.762Z"
   },
   {
    "duration": 38,
    "start_time": "2022-08-15T12:02:04.773Z"
   },
   {
    "duration": 3,
    "start_time": "2022-08-15T12:02:04.812Z"
   },
   {
    "duration": 17,
    "start_time": "2022-08-15T12:02:04.816Z"
   },
   {
    "duration": 8,
    "start_time": "2022-08-15T12:02:04.834Z"
   },
   {
    "duration": 27,
    "start_time": "2022-08-15T12:02:04.843Z"
   },
   {
    "duration": 94,
    "start_time": "2022-08-15T12:02:04.872Z"
   },
   {
    "duration": 22,
    "start_time": "2022-08-15T12:02:04.969Z"
   },
   {
    "duration": 64,
    "start_time": "2022-08-15T12:02:04.992Z"
   },
   {
    "duration": 69,
    "start_time": "2022-08-15T12:02:05.057Z"
   },
   {
    "duration": 57,
    "start_time": "2022-08-15T12:02:05.127Z"
   },
   {
    "duration": 35,
    "start_time": "2022-08-15T12:02:05.186Z"
   },
   {
    "duration": 3,
    "start_time": "2022-08-15T12:02:05.222Z"
   },
   {
    "duration": 8,
    "start_time": "2022-08-15T12:02:05.238Z"
   },
   {
    "duration": 46,
    "start_time": "2022-08-15T12:02:05.247Z"
   },
   {
    "duration": 11,
    "start_time": "2022-08-15T12:02:05.294Z"
   },
   {
    "duration": 29,
    "start_time": "2022-08-15T12:02:05.306Z"
   },
   {
    "duration": 12,
    "start_time": "2022-08-15T12:02:05.337Z"
   },
   {
    "duration": 38,
    "start_time": "2022-08-15T12:02:05.350Z"
   },
   {
    "duration": 18,
    "start_time": "2022-08-15T12:02:05.390Z"
   },
   {
    "duration": 40,
    "start_time": "2022-08-15T12:02:05.409Z"
   },
   {
    "duration": 22,
    "start_time": "2022-08-15T12:02:05.450Z"
   },
   {
    "duration": 42,
    "start_time": "2022-08-15T12:02:05.473Z"
   },
   {
    "duration": 36,
    "start_time": "2022-08-15T12:02:05.516Z"
   },
   {
    "duration": 21,
    "start_time": "2022-08-15T12:02:05.553Z"
   },
   {
    "duration": 48,
    "start_time": "2022-08-15T12:02:05.576Z"
   },
   {
    "duration": 20,
    "start_time": "2022-08-15T12:02:05.625Z"
   },
   {
    "duration": 36,
    "start_time": "2022-08-15T12:02:05.647Z"
   },
   {
    "duration": 29,
    "start_time": "2022-08-15T12:02:05.685Z"
   },
   {
    "duration": 18,
    "start_time": "2022-08-15T12:02:05.716Z"
   },
   {
    "duration": 27,
    "start_time": "2022-08-15T12:02:05.735Z"
   },
   {
    "duration": 22,
    "start_time": "2022-08-15T12:02:05.763Z"
   },
   {
    "duration": 11,
    "start_time": "2022-08-15T12:02:05.786Z"
   },
   {
    "duration": 10,
    "start_time": "2022-08-15T12:02:05.798Z"
   },
   {
    "duration": 28,
    "start_time": "2022-08-15T12:02:05.809Z"
   },
   {
    "duration": 11,
    "start_time": "2022-08-15T12:02:05.838Z"
   },
   {
    "duration": 8,
    "start_time": "2022-08-15T12:02:18.393Z"
   },
   {
    "duration": 48,
    "start_time": "2022-08-15T16:42:09.575Z"
   },
   {
    "duration": 401,
    "start_time": "2022-08-15T16:42:19.589Z"
   },
   {
    "duration": 344,
    "start_time": "2022-08-15T16:42:22.204Z"
   },
   {
    "duration": 11,
    "start_time": "2022-08-15T16:42:25.224Z"
   },
   {
    "duration": 28,
    "start_time": "2022-08-15T16:42:28.021Z"
   },
   {
    "duration": 4,
    "start_time": "2022-08-15T16:42:39.402Z"
   },
   {
    "duration": 11,
    "start_time": "2022-08-15T16:42:42.172Z"
   },
   {
    "duration": 4,
    "start_time": "2022-08-15T16:42:45.526Z"
   },
   {
    "duration": 22,
    "start_time": "2022-08-15T16:42:48.661Z"
   },
   {
    "duration": 32,
    "start_time": "2022-08-15T16:42:53.037Z"
   },
   {
    "duration": 54,
    "start_time": "2022-08-15T16:43:35.834Z"
   },
   {
    "duration": 62,
    "start_time": "2022-08-15T16:49:02.402Z"
   },
   {
    "duration": 25,
    "start_time": "2022-08-15T16:49:14.451Z"
   },
   {
    "duration": 54,
    "start_time": "2022-08-15T17:01:39.427Z"
   },
   {
    "duration": 56,
    "start_time": "2022-08-15T17:02:53.714Z"
   },
   {
    "duration": 25,
    "start_time": "2022-08-15T17:05:53.804Z"
   },
   {
    "duration": 10,
    "start_time": "2022-08-15T17:06:28.175Z"
   },
   {
    "duration": 34,
    "start_time": "2022-08-15T17:06:49.913Z"
   },
   {
    "duration": 29,
    "start_time": "2022-08-15T17:06:54.884Z"
   },
   {
    "duration": 23,
    "start_time": "2022-08-15T17:08:14.600Z"
   },
   {
    "duration": 28,
    "start_time": "2022-08-15T17:08:21.048Z"
   },
   {
    "duration": 51,
    "start_time": "2022-08-15T17:08:43.146Z"
   },
   {
    "duration": 28,
    "start_time": "2022-08-15T17:08:53.050Z"
   },
   {
    "duration": 60,
    "start_time": "2022-08-15T17:08:59.466Z"
   },
   {
    "duration": 2,
    "start_time": "2022-08-15T17:09:20.358Z"
   },
   {
    "duration": 282,
    "start_time": "2022-08-15T17:09:22.859Z"
   },
   {
    "duration": 9,
    "start_time": "2022-08-15T17:09:27.132Z"
   },
   {
    "duration": 11,
    "start_time": "2022-08-15T17:09:31.331Z"
   },
   {
    "duration": 10,
    "start_time": "2022-08-15T17:09:46.704Z"
   },
   {
    "duration": 27,
    "start_time": "2022-08-15T17:09:50.537Z"
   },
   {
    "duration": 5,
    "start_time": "2022-08-15T17:10:11.514Z"
   },
   {
    "duration": 11,
    "start_time": "2022-08-15T17:10:11.703Z"
   },
   {
    "duration": 4,
    "start_time": "2022-08-15T17:10:14.299Z"
   },
   {
    "duration": 24,
    "start_time": "2022-08-15T17:10:18.799Z"
   },
   {
    "duration": 44,
    "start_time": "2022-08-15T17:10:23.854Z"
   },
   {
    "duration": 31,
    "start_time": "2022-08-15T17:10:30.152Z"
   },
   {
    "duration": 32,
    "start_time": "2022-08-15T17:10:42.123Z"
   },
   {
    "duration": 31,
    "start_time": "2022-08-15T17:11:03.042Z"
   },
   {
    "duration": 24,
    "start_time": "2022-08-15T17:11:07.744Z"
   },
   {
    "duration": 7,
    "start_time": "2022-08-15T17:12:32.461Z"
   },
   {
    "duration": 12,
    "start_time": "2022-08-15T17:13:04.151Z"
   },
   {
    "duration": 7,
    "start_time": "2022-08-15T17:14:34.696Z"
   },
   {
    "duration": 10,
    "start_time": "2022-08-15T17:14:52.310Z"
   },
   {
    "duration": 8,
    "start_time": "2022-08-15T17:15:11.731Z"
   },
   {
    "duration": 11,
    "start_time": "2022-08-15T17:24:59.915Z"
   },
   {
    "duration": 11,
    "start_time": "2022-08-15T17:25:04.447Z"
   },
   {
    "duration": 10,
    "start_time": "2022-08-15T17:25:29.807Z"
   },
   {
    "duration": 23,
    "start_time": "2022-08-15T17:25:49.765Z"
   },
   {
    "duration": 48,
    "start_time": "2022-08-15T17:29:19.573Z"
   },
   {
    "duration": 7,
    "start_time": "2022-08-15T17:31:32.300Z"
   },
   {
    "duration": 14,
    "start_time": "2022-08-15T17:33:28.202Z"
   },
   {
    "duration": 13,
    "start_time": "2022-08-15T17:33:31.656Z"
   },
   {
    "duration": 3,
    "start_time": "2022-08-15T17:33:59.897Z"
   },
   {
    "duration": 280,
    "start_time": "2022-08-15T17:34:01.767Z"
   },
   {
    "duration": 10,
    "start_time": "2022-08-15T17:34:04.671Z"
   },
   {
    "duration": 11,
    "start_time": "2022-08-15T17:34:08.958Z"
   },
   {
    "duration": 11,
    "start_time": "2022-08-15T17:34:21.371Z"
   },
   {
    "duration": 9,
    "start_time": "2022-08-15T17:34:28.329Z"
   },
   {
    "duration": 27,
    "start_time": "2022-08-15T17:34:31.309Z"
   },
   {
    "duration": 6,
    "start_time": "2022-08-15T17:34:36.006Z"
   },
   {
    "duration": 11,
    "start_time": "2022-08-15T17:34:40.119Z"
   },
   {
    "duration": 4,
    "start_time": "2022-08-15T17:34:42.533Z"
   },
   {
    "duration": 23,
    "start_time": "2022-08-15T17:34:45.213Z"
   },
   {
    "duration": 15,
    "start_time": "2022-08-15T17:34:49.252Z"
   },
   {
    "duration": 26,
    "start_time": "2022-08-15T17:34:53.020Z"
   },
   {
    "duration": 17,
    "start_time": "2022-08-15T17:34:59.336Z"
   },
   {
    "duration": 32,
    "start_time": "2022-08-15T17:35:02.006Z"
   },
   {
    "duration": 60,
    "start_time": "2022-08-15T17:35:46.054Z"
   },
   {
    "duration": 13,
    "start_time": "2022-08-15T17:39:51.424Z"
   },
   {
    "duration": 24,
    "start_time": "2022-08-15T17:39:55.455Z"
   },
   {
    "duration": 18,
    "start_time": "2022-08-15T17:44:52.328Z"
   },
   {
    "duration": 25,
    "start_time": "2022-08-15T17:44:55.637Z"
   },
   {
    "duration": 8,
    "start_time": "2022-08-15T17:45:07.571Z"
   },
   {
    "duration": 13,
    "start_time": "2022-08-15T17:45:43.509Z"
   },
   {
    "duration": 26,
    "start_time": "2022-08-15T17:45:47.968Z"
   },
   {
    "duration": 14,
    "start_time": "2022-08-15T17:46:07.579Z"
   },
   {
    "duration": 24,
    "start_time": "2022-08-15T17:46:10.178Z"
   },
   {
    "duration": 23,
    "start_time": "2022-08-15T17:46:40.133Z"
   },
   {
    "duration": 46,
    "start_time": "2022-08-15T17:47:22.294Z"
   },
   {
    "duration": 22,
    "start_time": "2022-08-15T17:48:22.884Z"
   },
   {
    "duration": 10,
    "start_time": "2022-08-15T17:48:37.597Z"
   },
   {
    "duration": 7,
    "start_time": "2022-08-15T17:48:50.363Z"
   },
   {
    "duration": 25,
    "start_time": "2022-08-15T17:49:58.851Z"
   },
   {
    "duration": 7,
    "start_time": "2022-08-15T17:50:10.228Z"
   },
   {
    "duration": 132,
    "start_time": "2022-08-15T17:50:59.457Z"
   },
   {
    "duration": 179,
    "start_time": "2022-08-15T17:51:08.129Z"
   },
   {
    "duration": 110,
    "start_time": "2022-08-15T17:51:14.107Z"
   },
   {
    "duration": 7,
    "start_time": "2022-08-15T17:51:22.602Z"
   },
   {
    "duration": 55,
    "start_time": "2022-08-15T17:51:28.827Z"
   },
   {
    "duration": 134,
    "start_time": "2022-08-15T17:53:11.602Z"
   },
   {
    "duration": 99,
    "start_time": "2022-08-15T17:53:17.479Z"
   },
   {
    "duration": 138,
    "start_time": "2022-08-15T17:53:27.698Z"
   },
   {
    "duration": 14,
    "start_time": "2022-08-15T17:53:36.137Z"
   },
   {
    "duration": 25,
    "start_time": "2022-08-15T17:53:47.322Z"
   },
   {
    "duration": 1250,
    "start_time": "2022-08-15T17:54:57.142Z"
   },
   {
    "duration": 25,
    "start_time": "2022-08-15T17:55:09.772Z"
   },
   {
    "duration": 36,
    "start_time": "2022-08-15T17:56:10.117Z"
   },
   {
    "duration": 2,
    "start_time": "2022-08-15T17:56:32.468Z"
   },
   {
    "duration": 262,
    "start_time": "2022-08-15T17:56:34.361Z"
   },
   {
    "duration": 10,
    "start_time": "2022-08-15T17:56:37.299Z"
   },
   {
    "duration": 27,
    "start_time": "2022-08-15T17:56:40.819Z"
   },
   {
    "duration": 4,
    "start_time": "2022-08-15T17:56:47.611Z"
   },
   {
    "duration": 14,
    "start_time": "2022-08-15T17:56:50.318Z"
   },
   {
    "duration": 4,
    "start_time": "2022-08-15T17:56:52.903Z"
   },
   {
    "duration": 23,
    "start_time": "2022-08-15T17:56:55.419Z"
   },
   {
    "duration": 35,
    "start_time": "2022-08-15T17:56:59.009Z"
   },
   {
    "duration": 90,
    "start_time": "2022-08-15T17:58:10.904Z"
   },
   {
    "duration": 20,
    "start_time": "2022-08-15T17:58:15.918Z"
   },
   {
    "duration": 17,
    "start_time": "2022-08-15T17:58:23.426Z"
   },
   {
    "duration": 23,
    "start_time": "2022-08-15T17:58:36.704Z"
   },
   {
    "duration": 7,
    "start_time": "2022-08-15T17:58:49.174Z"
   },
   {
    "duration": 24,
    "start_time": "2022-08-15T17:59:00.251Z"
   },
   {
    "duration": 29,
    "start_time": "2022-08-15T17:59:55.143Z"
   },
   {
    "duration": 54,
    "start_time": "2022-08-15T18:01:21.515Z"
   },
   {
    "duration": 53,
    "start_time": "2022-08-15T18:01:55.399Z"
   },
   {
    "duration": 8,
    "start_time": "2022-08-15T18:03:38.231Z"
   },
   {
    "duration": 8,
    "start_time": "2022-08-15T18:03:45.739Z"
   },
   {
    "duration": 98,
    "start_time": "2022-08-15T18:03:59.561Z"
   },
   {
    "duration": 4,
    "start_time": "2022-08-15T18:04:42.799Z"
   },
   {
    "duration": 44,
    "start_time": "2022-08-15T18:04:48.138Z"
   },
   {
    "duration": 32,
    "start_time": "2022-08-15T18:05:41.418Z"
   },
   {
    "duration": 33,
    "start_time": "2022-08-15T18:08:22.180Z"
   },
   {
    "duration": 42,
    "start_time": "2022-08-15T18:08:26.050Z"
   },
   {
    "duration": 94,
    "start_time": "2022-08-15T18:10:17.654Z"
   },
   {
    "duration": 8,
    "start_time": "2022-08-15T18:10:33.967Z"
   },
   {
    "duration": 348,
    "start_time": "2022-08-16T14:45:39.125Z"
   },
   {
    "duration": 226,
    "start_time": "2022-08-16T14:45:39.475Z"
   },
   {
    "duration": 9,
    "start_time": "2022-08-16T14:45:39.702Z"
   },
   {
    "duration": 25,
    "start_time": "2022-08-16T14:45:39.712Z"
   },
   {
    "duration": 3,
    "start_time": "2022-08-16T14:45:39.739Z"
   },
   {
    "duration": 9,
    "start_time": "2022-08-16T14:45:39.759Z"
   },
   {
    "duration": 8,
    "start_time": "2022-08-16T14:45:39.769Z"
   },
   {
    "duration": 20,
    "start_time": "2022-08-16T14:45:39.778Z"
   },
   {
    "duration": 33,
    "start_time": "2022-08-16T14:45:39.799Z"
   },
   {
    "duration": 26,
    "start_time": "2022-08-16T14:45:39.834Z"
   },
   {
    "duration": 62,
    "start_time": "2022-08-16T14:45:39.861Z"
   },
   {
    "duration": 60,
    "start_time": "2022-08-16T14:45:39.924Z"
   },
   {
    "duration": 8,
    "start_time": "2022-08-16T14:45:39.985Z"
   },
   {
    "duration": 48,
    "start_time": "2022-08-16T14:45:39.995Z"
   },
   {
    "duration": 41,
    "start_time": "2022-08-16T14:45:40.044Z"
   },
   {
    "duration": 3,
    "start_time": "2022-08-16T14:45:40.086Z"
   },
   {
    "duration": 10,
    "start_time": "2022-08-16T14:45:40.090Z"
   },
   {
    "duration": 31,
    "start_time": "2022-08-16T14:45:40.101Z"
   },
   {
    "duration": 30,
    "start_time": "2022-08-16T14:45:40.134Z"
   },
   {
    "duration": 12,
    "start_time": "2022-08-16T14:45:40.165Z"
   },
   {
    "duration": 4,
    "start_time": "2022-08-16T14:45:40.178Z"
   },
   {
    "duration": 36,
    "start_time": "2022-08-16T14:45:40.183Z"
   },
   {
    "duration": 13,
    "start_time": "2022-08-16T14:45:40.221Z"
   },
   {
    "duration": 17,
    "start_time": "2022-08-16T14:45:40.236Z"
   },
   {
    "duration": 15,
    "start_time": "2022-08-16T14:45:40.254Z"
   },
   {
    "duration": 16,
    "start_time": "2022-08-16T14:45:40.271Z"
   },
   {
    "duration": 16,
    "start_time": "2022-08-16T14:45:40.288Z"
   },
   {
    "duration": 12,
    "start_time": "2022-08-16T14:45:40.306Z"
   },
   {
    "duration": 33,
    "start_time": "2022-08-16T14:45:40.319Z"
   },
   {
    "duration": 19,
    "start_time": "2022-08-16T14:45:40.354Z"
   },
   {
    "duration": 4,
    "start_time": "2022-08-16T14:45:40.374Z"
   },
   {
    "duration": 19,
    "start_time": "2022-08-16T14:45:40.380Z"
   },
   {
    "duration": 10,
    "start_time": "2022-08-16T14:45:40.400Z"
   },
   {
    "duration": 13,
    "start_time": "2022-08-16T14:45:40.411Z"
   },
   {
    "duration": 36,
    "start_time": "2022-08-16T14:45:40.425Z"
   },
   {
    "duration": 9,
    "start_time": "2022-08-16T14:45:40.463Z"
   },
   {
    "duration": 4,
    "start_time": "2022-08-16T14:45:40.474Z"
   },
   {
    "duration": 12,
    "start_time": "2022-08-16T14:45:40.479Z"
   },
   {
    "duration": 12,
    "start_time": "2022-08-16T14:45:40.493Z"
   },
   {
    "duration": 366,
    "start_time": "2022-08-16T14:52:22.215Z"
   },
   {
    "duration": 323,
    "start_time": "2022-08-16T14:52:24.700Z"
   },
   {
    "duration": 11,
    "start_time": "2022-08-16T14:52:27.669Z"
   },
   {
    "duration": 25,
    "start_time": "2022-08-16T14:52:30.341Z"
   },
   {
    "duration": 5,
    "start_time": "2022-08-16T14:52:35.370Z"
   },
   {
    "duration": 14,
    "start_time": "2022-08-16T14:52:37.562Z"
   },
   {
    "duration": 4,
    "start_time": "2022-08-16T14:52:40.152Z"
   },
   {
    "duration": 20,
    "start_time": "2022-08-16T14:52:42.794Z"
   },
   {
    "duration": 17,
    "start_time": "2022-08-16T14:53:15.028Z"
   },
   {
    "duration": 21,
    "start_time": "2022-08-16T14:53:20.952Z"
   },
   {
    "duration": 27,
    "start_time": "2022-08-16T14:53:35.009Z"
   },
   {
    "duration": 16,
    "start_time": "2022-08-16T14:53:40.536Z"
   },
   {
    "duration": 368,
    "start_time": "2022-08-16T15:27:29.228Z"
   },
   {
    "duration": 224,
    "start_time": "2022-08-16T15:27:29.597Z"
   },
   {
    "duration": 9,
    "start_time": "2022-08-16T15:27:29.822Z"
   },
   {
    "duration": 34,
    "start_time": "2022-08-16T15:27:29.832Z"
   },
   {
    "duration": 7,
    "start_time": "2022-08-16T15:27:29.867Z"
   },
   {
    "duration": 24,
    "start_time": "2022-08-16T15:27:29.875Z"
   },
   {
    "duration": 16,
    "start_time": "2022-08-16T15:27:29.900Z"
   },
   {
    "duration": 39,
    "start_time": "2022-08-16T15:27:29.917Z"
   },
   {
    "duration": 27,
    "start_time": "2022-08-16T15:27:29.957Z"
   },
   {
    "duration": 37,
    "start_time": "2022-08-16T15:27:29.985Z"
   },
   {
    "duration": 77,
    "start_time": "2022-08-16T15:27:30.023Z"
   },
   {
    "duration": 63,
    "start_time": "2022-08-16T15:27:30.101Z"
   },
   {
    "duration": 8,
    "start_time": "2022-08-16T15:27:30.165Z"
   },
   {
    "duration": 69,
    "start_time": "2022-08-16T15:27:30.176Z"
   },
   {
    "duration": 30,
    "start_time": "2022-08-16T15:27:30.247Z"
   },
   {
    "duration": 2,
    "start_time": "2022-08-16T15:27:30.279Z"
   },
   {
    "duration": 39,
    "start_time": "2022-08-16T15:27:30.283Z"
   },
   {
    "duration": 50,
    "start_time": "2022-08-16T15:27:30.323Z"
   },
   {
    "duration": 10,
    "start_time": "2022-08-16T15:27:30.375Z"
   },
   {
    "duration": 37,
    "start_time": "2022-08-16T15:27:30.386Z"
   },
   {
    "duration": 9,
    "start_time": "2022-08-16T15:27:30.425Z"
   },
   {
    "duration": 49,
    "start_time": "2022-08-16T15:27:30.435Z"
   },
   {
    "duration": 38,
    "start_time": "2022-08-16T15:27:30.485Z"
   },
   {
    "duration": 19,
    "start_time": "2022-08-16T15:27:30.525Z"
   },
   {
    "duration": 30,
    "start_time": "2022-08-16T15:27:30.545Z"
   },
   {
    "duration": 29,
    "start_time": "2022-08-16T15:27:30.576Z"
   },
   {
    "duration": 54,
    "start_time": "2022-08-16T15:27:30.606Z"
   },
   {
    "duration": 27,
    "start_time": "2022-08-16T15:27:30.662Z"
   },
   {
    "duration": 31,
    "start_time": "2022-08-16T15:27:30.690Z"
   },
   {
    "duration": 29,
    "start_time": "2022-08-16T15:27:30.722Z"
   },
   {
    "duration": 12,
    "start_time": "2022-08-16T15:27:30.752Z"
   },
   {
    "duration": 46,
    "start_time": "2022-08-16T15:27:30.765Z"
   },
   {
    "duration": 32,
    "start_time": "2022-08-16T15:27:30.813Z"
   },
   {
    "duration": 29,
    "start_time": "2022-08-16T15:27:30.846Z"
   },
   {
    "duration": 36,
    "start_time": "2022-08-16T15:27:30.876Z"
   },
   {
    "duration": 32,
    "start_time": "2022-08-16T15:27:30.914Z"
   },
   {
    "duration": 19,
    "start_time": "2022-08-16T15:27:30.947Z"
   },
   {
    "duration": 22,
    "start_time": "2022-08-16T15:27:30.968Z"
   },
   {
    "duration": 32,
    "start_time": "2022-08-16T15:27:30.991Z"
   }
  ],
  "colab": {
   "collapsed_sections": [
    "E0vqbgi9ay0H",
    "VUC88oWjTJw2",
    "atZAxtq4_Zcu"
   ],
   "name": "EmptyFinalProject.ipynb\"",
   "provenance": []
  },
  "kernelspec": {
   "display_name": "Python 3 (ipykernel)",
   "language": "python",
   "name": "python3"
  },
  "language_info": {
   "codemirror_mode": {
    "name": "ipython",
    "version": 3
   },
   "file_extension": ".py",
   "mimetype": "text/x-python",
   "name": "python",
   "nbconvert_exporter": "python",
   "pygments_lexer": "ipython3",
   "version": "3.10.11"
  },
  "toc": {
   "base_numbering": 1,
   "nav_menu": {},
   "number_sections": true,
   "sideBar": true,
   "skip_h1_title": true,
   "title_cell": "Table of Contents",
   "title_sidebar": "Contents",
   "toc_cell": false,
   "toc_position": {},
   "toc_section_display": true,
   "toc_window_display": false
  }
 },
 "nbformat": 4,
 "nbformat_minor": 4
}
